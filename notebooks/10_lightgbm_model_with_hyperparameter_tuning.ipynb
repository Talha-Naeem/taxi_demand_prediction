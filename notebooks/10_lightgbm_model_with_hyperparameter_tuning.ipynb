{
 "cells": [
  {
   "cell_type": "code",
   "execution_count": 1,
   "id": "631e71e1",
   "metadata": {},
   "outputs": [],
   "source": [
    "import sys\n",
    "import os\n",
    "sys.path.append(os.path.abspath(os.path.join(os.getcwd(), '..')))"
   ]
  },
  {
   "cell_type": "code",
   "execution_count": 2,
   "id": "b5504914",
   "metadata": {},
   "outputs": [
    {
     "data": {
      "text/html": [
       "<div>\n",
       "<style scoped>\n",
       "    .dataframe tbody tr th:only-of-type {\n",
       "        vertical-align: middle;\n",
       "    }\n",
       "\n",
       "    .dataframe tbody tr th {\n",
       "        vertical-align: top;\n",
       "    }\n",
       "\n",
       "    .dataframe thead th {\n",
       "        text-align: right;\n",
       "    }\n",
       "</style>\n",
       "<table border=\"1\" class=\"dataframe\">\n",
       "  <thead>\n",
       "    <tr style=\"text-align: right;\">\n",
       "      <th></th>\n",
       "      <th>rides_previous_672_hour</th>\n",
       "      <th>rides_previous_671_hour</th>\n",
       "      <th>rides_previous_670_hour</th>\n",
       "      <th>rides_previous_669_hour</th>\n",
       "      <th>rides_previous_668_hour</th>\n",
       "      <th>rides_previous_667_hour</th>\n",
       "      <th>rides_previous_666_hour</th>\n",
       "      <th>rides_previous_665_hour</th>\n",
       "      <th>rides_previous_664_hour</th>\n",
       "      <th>rides_previous_663_hour</th>\n",
       "      <th>...</th>\n",
       "      <th>rides_previous_7_hour</th>\n",
       "      <th>rides_previous_6_hour</th>\n",
       "      <th>rides_previous_5_hour</th>\n",
       "      <th>rides_previous_4_hour</th>\n",
       "      <th>rides_previous_3_hour</th>\n",
       "      <th>rides_previous_2_hour</th>\n",
       "      <th>rides_previous_1_hour</th>\n",
       "      <th>pickup_hour</th>\n",
       "      <th>pickup_location_id</th>\n",
       "      <th>target_rides_next_hour</th>\n",
       "    </tr>\n",
       "  </thead>\n",
       "  <tbody>\n",
       "    <tr>\n",
       "      <th>0</th>\n",
       "      <td>0.0</td>\n",
       "      <td>0.0</td>\n",
       "      <td>0.0</td>\n",
       "      <td>0.0</td>\n",
       "      <td>1.0</td>\n",
       "      <td>1.0</td>\n",
       "      <td>0.0</td>\n",
       "      <td>2.0</td>\n",
       "      <td>0.0</td>\n",
       "      <td>0.0</td>\n",
       "      <td>...</td>\n",
       "      <td>2.0</td>\n",
       "      <td>0.0</td>\n",
       "      <td>1.0</td>\n",
       "      <td>0.0</td>\n",
       "      <td>0.0</td>\n",
       "      <td>0.0</td>\n",
       "      <td>0.0</td>\n",
       "      <td>2022-01-29</td>\n",
       "      <td>1</td>\n",
       "      <td>0.0</td>\n",
       "    </tr>\n",
       "    <tr>\n",
       "      <th>1</th>\n",
       "      <td>0.0</td>\n",
       "      <td>0.0</td>\n",
       "      <td>0.0</td>\n",
       "      <td>0.0</td>\n",
       "      <td>0.0</td>\n",
       "      <td>4.0</td>\n",
       "      <td>1.0</td>\n",
       "      <td>2.0</td>\n",
       "      <td>1.0</td>\n",
       "      <td>2.0</td>\n",
       "      <td>...</td>\n",
       "      <td>0.0</td>\n",
       "      <td>0.0</td>\n",
       "      <td>0.0</td>\n",
       "      <td>0.0</td>\n",
       "      <td>1.0</td>\n",
       "      <td>0.0</td>\n",
       "      <td>0.0</td>\n",
       "      <td>2022-01-30</td>\n",
       "      <td>1</td>\n",
       "      <td>0.0</td>\n",
       "    </tr>\n",
       "    <tr>\n",
       "      <th>2</th>\n",
       "      <td>0.0</td>\n",
       "      <td>0.0</td>\n",
       "      <td>0.0</td>\n",
       "      <td>0.0</td>\n",
       "      <td>0.0</td>\n",
       "      <td>0.0</td>\n",
       "      <td>0.0</td>\n",
       "      <td>2.0</td>\n",
       "      <td>0.0</td>\n",
       "      <td>0.0</td>\n",
       "      <td>...</td>\n",
       "      <td>0.0</td>\n",
       "      <td>1.0</td>\n",
       "      <td>2.0</td>\n",
       "      <td>0.0</td>\n",
       "      <td>0.0</td>\n",
       "      <td>0.0</td>\n",
       "      <td>0.0</td>\n",
       "      <td>2022-01-31</td>\n",
       "      <td>1</td>\n",
       "      <td>0.0</td>\n",
       "    </tr>\n",
       "    <tr>\n",
       "      <th>3</th>\n",
       "      <td>0.0</td>\n",
       "      <td>0.0</td>\n",
       "      <td>0.0</td>\n",
       "      <td>0.0</td>\n",
       "      <td>0.0</td>\n",
       "      <td>0.0</td>\n",
       "      <td>0.0</td>\n",
       "      <td>0.0</td>\n",
       "      <td>1.0</td>\n",
       "      <td>1.0</td>\n",
       "      <td>...</td>\n",
       "      <td>2.0</td>\n",
       "      <td>1.0</td>\n",
       "      <td>0.0</td>\n",
       "      <td>1.0</td>\n",
       "      <td>1.0</td>\n",
       "      <td>0.0</td>\n",
       "      <td>0.0</td>\n",
       "      <td>2022-02-01</td>\n",
       "      <td>1</td>\n",
       "      <td>0.0</td>\n",
       "    </tr>\n",
       "    <tr>\n",
       "      <th>4</th>\n",
       "      <td>0.0</td>\n",
       "      <td>0.0</td>\n",
       "      <td>0.0</td>\n",
       "      <td>0.0</td>\n",
       "      <td>0.0</td>\n",
       "      <td>0.0</td>\n",
       "      <td>0.0</td>\n",
       "      <td>0.0</td>\n",
       "      <td>0.0</td>\n",
       "      <td>0.0</td>\n",
       "      <td>...</td>\n",
       "      <td>0.0</td>\n",
       "      <td>0.0</td>\n",
       "      <td>0.0</td>\n",
       "      <td>0.0</td>\n",
       "      <td>0.0</td>\n",
       "      <td>0.0</td>\n",
       "      <td>0.0</td>\n",
       "      <td>2022-02-02</td>\n",
       "      <td>1</td>\n",
       "      <td>0.0</td>\n",
       "    </tr>\n",
       "    <tr>\n",
       "      <th>...</th>\n",
       "      <td>...</td>\n",
       "      <td>...</td>\n",
       "      <td>...</td>\n",
       "      <td>...</td>\n",
       "      <td>...</td>\n",
       "      <td>...</td>\n",
       "      <td>...</td>\n",
       "      <td>...</td>\n",
       "      <td>...</td>\n",
       "      <td>...</td>\n",
       "      <td>...</td>\n",
       "      <td>...</td>\n",
       "      <td>...</td>\n",
       "      <td>...</td>\n",
       "      <td>...</td>\n",
       "      <td>...</td>\n",
       "      <td>...</td>\n",
       "      <td>...</td>\n",
       "      <td>...</td>\n",
       "      <td>...</td>\n",
       "      <td>...</td>\n",
       "    </tr>\n",
       "    <tr>\n",
       "      <th>89300</th>\n",
       "      <td>3.0</td>\n",
       "      <td>0.0</td>\n",
       "      <td>2.0</td>\n",
       "      <td>3.0</td>\n",
       "      <td>2.0</td>\n",
       "      <td>3.0</td>\n",
       "      <td>13.0</td>\n",
       "      <td>8.0</td>\n",
       "      <td>9.0</td>\n",
       "      <td>9.0</td>\n",
       "      <td>...</td>\n",
       "      <td>6.0</td>\n",
       "      <td>5.0</td>\n",
       "      <td>3.0</td>\n",
       "      <td>1.0</td>\n",
       "      <td>6.0</td>\n",
       "      <td>1.0</td>\n",
       "      <td>3.0</td>\n",
       "      <td>2022-12-27</td>\n",
       "      <td>265</td>\n",
       "      <td>3.0</td>\n",
       "    </tr>\n",
       "    <tr>\n",
       "      <th>89301</th>\n",
       "      <td>6.0</td>\n",
       "      <td>4.0</td>\n",
       "      <td>0.0</td>\n",
       "      <td>0.0</td>\n",
       "      <td>2.0</td>\n",
       "      <td>0.0</td>\n",
       "      <td>14.0</td>\n",
       "      <td>7.0</td>\n",
       "      <td>8.0</td>\n",
       "      <td>4.0</td>\n",
       "      <td>...</td>\n",
       "      <td>4.0</td>\n",
       "      <td>2.0</td>\n",
       "      <td>1.0</td>\n",
       "      <td>2.0</td>\n",
       "      <td>2.0</td>\n",
       "      <td>2.0</td>\n",
       "      <td>8.0</td>\n",
       "      <td>2022-12-28</td>\n",
       "      <td>265</td>\n",
       "      <td>1.0</td>\n",
       "    </tr>\n",
       "    <tr>\n",
       "      <th>89302</th>\n",
       "      <td>7.0</td>\n",
       "      <td>2.0</td>\n",
       "      <td>3.0</td>\n",
       "      <td>4.0</td>\n",
       "      <td>7.0</td>\n",
       "      <td>4.0</td>\n",
       "      <td>10.0</td>\n",
       "      <td>9.0</td>\n",
       "      <td>7.0</td>\n",
       "      <td>11.0</td>\n",
       "      <td>...</td>\n",
       "      <td>2.0</td>\n",
       "      <td>3.0</td>\n",
       "      <td>5.0</td>\n",
       "      <td>1.0</td>\n",
       "      <td>1.0</td>\n",
       "      <td>0.0</td>\n",
       "      <td>8.0</td>\n",
       "      <td>2022-12-29</td>\n",
       "      <td>265</td>\n",
       "      <td>3.0</td>\n",
       "    </tr>\n",
       "    <tr>\n",
       "      <th>89303</th>\n",
       "      <td>6.0</td>\n",
       "      <td>5.0</td>\n",
       "      <td>4.0</td>\n",
       "      <td>3.0</td>\n",
       "      <td>0.0</td>\n",
       "      <td>3.0</td>\n",
       "      <td>11.0</td>\n",
       "      <td>12.0</td>\n",
       "      <td>9.0</td>\n",
       "      <td>10.0</td>\n",
       "      <td>...</td>\n",
       "      <td>3.0</td>\n",
       "      <td>3.0</td>\n",
       "      <td>1.0</td>\n",
       "      <td>2.0</td>\n",
       "      <td>0.0</td>\n",
       "      <td>1.0</td>\n",
       "      <td>2.0</td>\n",
       "      <td>2022-12-30</td>\n",
       "      <td>265</td>\n",
       "      <td>7.0</td>\n",
       "    </tr>\n",
       "    <tr>\n",
       "      <th>89304</th>\n",
       "      <td>6.0</td>\n",
       "      <td>6.0</td>\n",
       "      <td>4.0</td>\n",
       "      <td>2.0</td>\n",
       "      <td>5.0</td>\n",
       "      <td>1.0</td>\n",
       "      <td>0.0</td>\n",
       "      <td>3.0</td>\n",
       "      <td>5.0</td>\n",
       "      <td>8.0</td>\n",
       "      <td>...</td>\n",
       "      <td>6.0</td>\n",
       "      <td>4.0</td>\n",
       "      <td>2.0</td>\n",
       "      <td>5.0</td>\n",
       "      <td>1.0</td>\n",
       "      <td>1.0</td>\n",
       "      <td>7.0</td>\n",
       "      <td>2022-12-31</td>\n",
       "      <td>265</td>\n",
       "      <td>3.0</td>\n",
       "    </tr>\n",
       "  </tbody>\n",
       "</table>\n",
       "<p>89305 rows × 675 columns</p>\n",
       "</div>"
      ],
      "text/plain": [
       "       rides_previous_672_hour  rides_previous_671_hour  \\\n",
       "0                          0.0                      0.0   \n",
       "1                          0.0                      0.0   \n",
       "2                          0.0                      0.0   \n",
       "3                          0.0                      0.0   \n",
       "4                          0.0                      0.0   \n",
       "...                        ...                      ...   \n",
       "89300                      3.0                      0.0   \n",
       "89301                      6.0                      4.0   \n",
       "89302                      7.0                      2.0   \n",
       "89303                      6.0                      5.0   \n",
       "89304                      6.0                      6.0   \n",
       "\n",
       "       rides_previous_670_hour  rides_previous_669_hour  \\\n",
       "0                          0.0                      0.0   \n",
       "1                          0.0                      0.0   \n",
       "2                          0.0                      0.0   \n",
       "3                          0.0                      0.0   \n",
       "4                          0.0                      0.0   \n",
       "...                        ...                      ...   \n",
       "89300                      2.0                      3.0   \n",
       "89301                      0.0                      0.0   \n",
       "89302                      3.0                      4.0   \n",
       "89303                      4.0                      3.0   \n",
       "89304                      4.0                      2.0   \n",
       "\n",
       "       rides_previous_668_hour  rides_previous_667_hour  \\\n",
       "0                          1.0                      1.0   \n",
       "1                          0.0                      4.0   \n",
       "2                          0.0                      0.0   \n",
       "3                          0.0                      0.0   \n",
       "4                          0.0                      0.0   \n",
       "...                        ...                      ...   \n",
       "89300                      2.0                      3.0   \n",
       "89301                      2.0                      0.0   \n",
       "89302                      7.0                      4.0   \n",
       "89303                      0.0                      3.0   \n",
       "89304                      5.0                      1.0   \n",
       "\n",
       "       rides_previous_666_hour  rides_previous_665_hour  \\\n",
       "0                          0.0                      2.0   \n",
       "1                          1.0                      2.0   \n",
       "2                          0.0                      2.0   \n",
       "3                          0.0                      0.0   \n",
       "4                          0.0                      0.0   \n",
       "...                        ...                      ...   \n",
       "89300                     13.0                      8.0   \n",
       "89301                     14.0                      7.0   \n",
       "89302                     10.0                      9.0   \n",
       "89303                     11.0                     12.0   \n",
       "89304                      0.0                      3.0   \n",
       "\n",
       "       rides_previous_664_hour  rides_previous_663_hour  ...  \\\n",
       "0                          0.0                      0.0  ...   \n",
       "1                          1.0                      2.0  ...   \n",
       "2                          0.0                      0.0  ...   \n",
       "3                          1.0                      1.0  ...   \n",
       "4                          0.0                      0.0  ...   \n",
       "...                        ...                      ...  ...   \n",
       "89300                      9.0                      9.0  ...   \n",
       "89301                      8.0                      4.0  ...   \n",
       "89302                      7.0                     11.0  ...   \n",
       "89303                      9.0                     10.0  ...   \n",
       "89304                      5.0                      8.0  ...   \n",
       "\n",
       "       rides_previous_7_hour  rides_previous_6_hour  rides_previous_5_hour  \\\n",
       "0                        2.0                    0.0                    1.0   \n",
       "1                        0.0                    0.0                    0.0   \n",
       "2                        0.0                    1.0                    2.0   \n",
       "3                        2.0                    1.0                    0.0   \n",
       "4                        0.0                    0.0                    0.0   \n",
       "...                      ...                    ...                    ...   \n",
       "89300                    6.0                    5.0                    3.0   \n",
       "89301                    4.0                    2.0                    1.0   \n",
       "89302                    2.0                    3.0                    5.0   \n",
       "89303                    3.0                    3.0                    1.0   \n",
       "89304                    6.0                    4.0                    2.0   \n",
       "\n",
       "       rides_previous_4_hour  rides_previous_3_hour  rides_previous_2_hour  \\\n",
       "0                        0.0                    0.0                    0.0   \n",
       "1                        0.0                    1.0                    0.0   \n",
       "2                        0.0                    0.0                    0.0   \n",
       "3                        1.0                    1.0                    0.0   \n",
       "4                        0.0                    0.0                    0.0   \n",
       "...                      ...                    ...                    ...   \n",
       "89300                    1.0                    6.0                    1.0   \n",
       "89301                    2.0                    2.0                    2.0   \n",
       "89302                    1.0                    1.0                    0.0   \n",
       "89303                    2.0                    0.0                    1.0   \n",
       "89304                    5.0                    1.0                    1.0   \n",
       "\n",
       "       rides_previous_1_hour  pickup_hour  pickup_location_id  \\\n",
       "0                        0.0   2022-01-29                   1   \n",
       "1                        0.0   2022-01-30                   1   \n",
       "2                        0.0   2022-01-31                   1   \n",
       "3                        0.0   2022-02-01                   1   \n",
       "4                        0.0   2022-02-02                   1   \n",
       "...                      ...          ...                 ...   \n",
       "89300                    3.0   2022-12-27                 265   \n",
       "89301                    8.0   2022-12-28                 265   \n",
       "89302                    8.0   2022-12-29                 265   \n",
       "89303                    2.0   2022-12-30                 265   \n",
       "89304                    7.0   2022-12-31                 265   \n",
       "\n",
       "       target_rides_next_hour  \n",
       "0                         0.0  \n",
       "1                         0.0  \n",
       "2                         0.0  \n",
       "3                         0.0  \n",
       "4                         0.0  \n",
       "...                       ...  \n",
       "89300                     3.0  \n",
       "89301                     1.0  \n",
       "89302                     3.0  \n",
       "89303                     7.0  \n",
       "89304                     3.0  \n",
       "\n",
       "[89305 rows x 675 columns]"
      ]
     },
     "execution_count": 2,
     "metadata": {},
     "output_type": "execute_result"
    }
   ],
   "source": [
    "import pandas as pd\n",
    "from src.paths import TRANSFORMED_DATA_DIR\n",
    "\n",
    "df = pd.read_parquet(TRANSFORMED_DATA_DIR / 'tabular_data.parquet')\n",
    "df"
   ]
  },
  {
   "cell_type": "code",
   "execution_count": 3,
   "id": "2e587a38",
   "metadata": {},
   "outputs": [
    {
     "name": "stdout",
     "output_type": "stream",
     "text": [
      "X_train.shape=(32595, 674)\n",
      "y_train.shape=(32595,)\n",
      "X_test.shape=(56710, 674)\n",
      "y_test.shape=(56710,)\n"
     ]
    }
   ],
   "source": [
    "from datetime import datetime\n",
    "from src.data_split import train_test_split\n",
    "\n",
    "X_train, y_train, X_test, y_test = train_test_split(\n",
    "    df,\n",
    "    cutoff_date=datetime(2022, 6, 1, 0, 0, 0),\n",
    "    target_column_name='target_rides_next_hour'\n",
    ")\n",
    "\n",
    "print(f'{X_train.shape=}')\n",
    "print(f'{y_train.shape=}')\n",
    "print(f'{X_test.shape=}')\n",
    "print(f'{y_test.shape=}')"
   ]
  },
  {
   "cell_type": "code",
   "execution_count": 6,
   "id": "0a9101b8",
   "metadata": {},
   "outputs": [],
   "source": [
    "import numpy as np\n",
    "from sklearn.model_selection import KFold, TimeSeriesSplit\n",
    "from sklearn.pipeline import make_pipeline\n",
    "from sklearn.metrics import mean_absolute_error\n",
    "import optuna\n",
    "\n",
    "from src.model import get_pipeline\n",
    "\n",
    "def objective(trial: optuna.trial.Trial) -> float:\n",
    "    \"\"\"\n",
    "    Given a set of hyper-parameters, it trains a model and computes an average\n",
    "    validation error based on a TimeSeriesSplit\n",
    "    \"\"\"\n",
    "    # pick hyper-parameters\n",
    "    hyperparams = {\n",
    "        \"metric\": 'mae',\n",
    "        \"verbose\": -1,\n",
    "        \"num_leaves\": trial.suggest_int(\"num_leaves\", 2, 256),\n",
    "        \"feature_fraction\": trial.suggest_float(\"feature_fraction\", 0.2, 1.0),\n",
    "        \"bagging_fraction\": trial.suggest_float(\"bagging_fraction\", 0.2, 1.0),\n",
    "        \"min_child_samples\": trial.suggest_int(\"min_child_samples\", 3, 100),   \n",
    "    }\n",
    "       \n",
    "    tss = KFold(n_splits=3)\n",
    "    scores = []\n",
    "        \n",
    "    for train_index, val_index in tss.split(X_train):\n",
    "\n",
    "        # split data for training and validation\n",
    "        X_train_, X_val_ = X_train.iloc[train_index, :], X_train.iloc[val_index,:]\n",
    "        y_train_, y_val_ = y_train.iloc[train_index], y_train.iloc[val_index]\n",
    "        \n",
    "        # train the model\n",
    "        pipeline = get_pipeline(**hyperparams)\n",
    "        pipeline.fit(X_train_, y_train_)\n",
    "        \n",
    "        # evaluate the model\n",
    "        y_pred = pipeline.predict(X_val_)\n",
    "        mae = mean_absolute_error(y_val_, y_pred)\n",
    "\n",
    "        scores.append(mae)\n",
    "   \n",
    "    # Return the mean score\n",
    "    return np.array(scores).mean()"
   ]
  },
  {
   "cell_type": "code",
   "execution_count": 7,
   "id": "825f94d7",
   "metadata": {},
   "outputs": [
    {
     "name": "stderr",
     "output_type": "stream",
     "text": [
      "[I 2025-07-29 22:45:34,301] A new study created in memory with name: no-name-6fe4e25d-1e20-44bf-9272-4fc085535052\n",
      "/home/talha-naeem/Documents/LLM Work/taxi_demand/src/model.py:16: SettingWithCopyWarning: \n",
      "A value is trying to be set on a copy of a slice from a DataFrame.\n",
      "Try using .loc[row_indexer,col_indexer] = value instead\n",
      "\n",
      "See the caveats in the documentation: https://pandas.pydata.org/pandas-docs/stable/user_guide/indexing.html#returning-a-view-versus-a-copy\n",
      "  X['average_rides_last_4_weeks'] = 0.25*(\n",
      "/home/talha-naeem/Documents/LLM Work/taxi_demand/src/model.py:16: SettingWithCopyWarning: \n",
      "A value is trying to be set on a copy of a slice from a DataFrame.\n",
      "Try using .loc[row_indexer,col_indexer] = value instead\n",
      "\n",
      "See the caveats in the documentation: https://pandas.pydata.org/pandas-docs/stable/user_guide/indexing.html#returning-a-view-versus-a-copy\n",
      "  X['average_rides_last_4_weeks'] = 0.25*(\n",
      "/home/talha-naeem/Documents/LLM Work/taxi_demand/src/model.py:16: SettingWithCopyWarning: \n",
      "A value is trying to be set on a copy of a slice from a DataFrame.\n",
      "Try using .loc[row_indexer,col_indexer] = value instead\n",
      "\n",
      "See the caveats in the documentation: https://pandas.pydata.org/pandas-docs/stable/user_guide/indexing.html#returning-a-view-versus-a-copy\n",
      "  X['average_rides_last_4_weeks'] = 0.25*(\n",
      "/home/talha-naeem/Documents/LLM Work/taxi_demand/src/model.py:16: SettingWithCopyWarning: \n",
      "A value is trying to be set on a copy of a slice from a DataFrame.\n",
      "Try using .loc[row_indexer,col_indexer] = value instead\n",
      "\n",
      "See the caveats in the documentation: https://pandas.pydata.org/pandas-docs/stable/user_guide/indexing.html#returning-a-view-versus-a-copy\n",
      "  X['average_rides_last_4_weeks'] = 0.25*(\n",
      "/home/talha-naeem/Documents/LLM Work/taxi_demand/src/model.py:16: SettingWithCopyWarning: \n",
      "A value is trying to be set on a copy of a slice from a DataFrame.\n",
      "Try using .loc[row_indexer,col_indexer] = value instead\n",
      "\n",
      "See the caveats in the documentation: https://pandas.pydata.org/pandas-docs/stable/user_guide/indexing.html#returning-a-view-versus-a-copy\n",
      "  X['average_rides_last_4_weeks'] = 0.25*(\n",
      "/home/talha-naeem/Documents/LLM Work/taxi_demand/src/model.py:16: SettingWithCopyWarning: \n",
      "A value is trying to be set on a copy of a slice from a DataFrame.\n",
      "Try using .loc[row_indexer,col_indexer] = value instead\n",
      "\n",
      "See the caveats in the documentation: https://pandas.pydata.org/pandas-docs/stable/user_guide/indexing.html#returning-a-view-versus-a-copy\n",
      "  X['average_rides_last_4_weeks'] = 0.25*(\n",
      "[I 2025-07-29 22:46:51,544] Trial 0 finished with value: 2.593033942741024 and parameters: {'num_leaves': 221, 'feature_fraction': 0.9034359567857335, 'bagging_fraction': 0.6898523561080823, 'min_child_samples': 16}. Best is trial 0 with value: 2.593033942741024.\n",
      "/home/talha-naeem/Documents/LLM Work/taxi_demand/src/model.py:16: SettingWithCopyWarning: \n",
      "A value is trying to be set on a copy of a slice from a DataFrame.\n",
      "Try using .loc[row_indexer,col_indexer] = value instead\n",
      "\n",
      "See the caveats in the documentation: https://pandas.pydata.org/pandas-docs/stable/user_guide/indexing.html#returning-a-view-versus-a-copy\n",
      "  X['average_rides_last_4_weeks'] = 0.25*(\n",
      "/home/talha-naeem/Documents/LLM Work/taxi_demand/src/model.py:16: SettingWithCopyWarning: \n",
      "A value is trying to be set on a copy of a slice from a DataFrame.\n",
      "Try using .loc[row_indexer,col_indexer] = value instead\n",
      "\n",
      "See the caveats in the documentation: https://pandas.pydata.org/pandas-docs/stable/user_guide/indexing.html#returning-a-view-versus-a-copy\n",
      "  X['average_rides_last_4_weeks'] = 0.25*(\n",
      "/home/talha-naeem/Documents/LLM Work/taxi_demand/src/model.py:16: SettingWithCopyWarning: \n",
      "A value is trying to be set on a copy of a slice from a DataFrame.\n",
      "Try using .loc[row_indexer,col_indexer] = value instead\n",
      "\n",
      "See the caveats in the documentation: https://pandas.pydata.org/pandas-docs/stable/user_guide/indexing.html#returning-a-view-versus-a-copy\n",
      "  X['average_rides_last_4_weeks'] = 0.25*(\n",
      "/home/talha-naeem/Documents/LLM Work/taxi_demand/src/model.py:16: SettingWithCopyWarning: \n",
      "A value is trying to be set on a copy of a slice from a DataFrame.\n",
      "Try using .loc[row_indexer,col_indexer] = value instead\n",
      "\n",
      "See the caveats in the documentation: https://pandas.pydata.org/pandas-docs/stable/user_guide/indexing.html#returning-a-view-versus-a-copy\n",
      "  X['average_rides_last_4_weeks'] = 0.25*(\n",
      "/home/talha-naeem/Documents/LLM Work/taxi_demand/src/model.py:16: SettingWithCopyWarning: \n",
      "A value is trying to be set on a copy of a slice from a DataFrame.\n",
      "Try using .loc[row_indexer,col_indexer] = value instead\n",
      "\n",
      "See the caveats in the documentation: https://pandas.pydata.org/pandas-docs/stable/user_guide/indexing.html#returning-a-view-versus-a-copy\n",
      "  X['average_rides_last_4_weeks'] = 0.25*(\n",
      "/home/talha-naeem/Documents/LLM Work/taxi_demand/src/model.py:16: SettingWithCopyWarning: \n",
      "A value is trying to be set on a copy of a slice from a DataFrame.\n",
      "Try using .loc[row_indexer,col_indexer] = value instead\n",
      "\n",
      "See the caveats in the documentation: https://pandas.pydata.org/pandas-docs/stable/user_guide/indexing.html#returning-a-view-versus-a-copy\n",
      "  X['average_rides_last_4_weeks'] = 0.25*(\n",
      "[I 2025-07-29 22:47:31,120] Trial 1 finished with value: 2.5988836494147294 and parameters: {'num_leaves': 93, 'feature_fraction': 0.6914501470122629, 'bagging_fraction': 0.532484184701884, 'min_child_samples': 94}. Best is trial 0 with value: 2.593033942741024.\n",
      "/home/talha-naeem/Documents/LLM Work/taxi_demand/src/model.py:16: SettingWithCopyWarning: \n",
      "A value is trying to be set on a copy of a slice from a DataFrame.\n",
      "Try using .loc[row_indexer,col_indexer] = value instead\n",
      "\n",
      "See the caveats in the documentation: https://pandas.pydata.org/pandas-docs/stable/user_guide/indexing.html#returning-a-view-versus-a-copy\n",
      "  X['average_rides_last_4_weeks'] = 0.25*(\n",
      "/home/talha-naeem/Documents/LLM Work/taxi_demand/src/model.py:16: SettingWithCopyWarning: \n",
      "A value is trying to be set on a copy of a slice from a DataFrame.\n",
      "Try using .loc[row_indexer,col_indexer] = value instead\n",
      "\n",
      "See the caveats in the documentation: https://pandas.pydata.org/pandas-docs/stable/user_guide/indexing.html#returning-a-view-versus-a-copy\n",
      "  X['average_rides_last_4_weeks'] = 0.25*(\n",
      "/home/talha-naeem/Documents/LLM Work/taxi_demand/src/model.py:16: SettingWithCopyWarning: \n",
      "A value is trying to be set on a copy of a slice from a DataFrame.\n",
      "Try using .loc[row_indexer,col_indexer] = value instead\n",
      "\n",
      "See the caveats in the documentation: https://pandas.pydata.org/pandas-docs/stable/user_guide/indexing.html#returning-a-view-versus-a-copy\n",
      "  X['average_rides_last_4_weeks'] = 0.25*(\n",
      "/home/talha-naeem/Documents/LLM Work/taxi_demand/src/model.py:16: SettingWithCopyWarning: \n",
      "A value is trying to be set on a copy of a slice from a DataFrame.\n",
      "Try using .loc[row_indexer,col_indexer] = value instead\n",
      "\n",
      "See the caveats in the documentation: https://pandas.pydata.org/pandas-docs/stable/user_guide/indexing.html#returning-a-view-versus-a-copy\n",
      "  X['average_rides_last_4_weeks'] = 0.25*(\n",
      "/home/talha-naeem/Documents/LLM Work/taxi_demand/src/model.py:16: SettingWithCopyWarning: \n",
      "A value is trying to be set on a copy of a slice from a DataFrame.\n",
      "Try using .loc[row_indexer,col_indexer] = value instead\n",
      "\n",
      "See the caveats in the documentation: https://pandas.pydata.org/pandas-docs/stable/user_guide/indexing.html#returning-a-view-versus-a-copy\n",
      "  X['average_rides_last_4_weeks'] = 0.25*(\n",
      "/home/talha-naeem/Documents/LLM Work/taxi_demand/src/model.py:16: SettingWithCopyWarning: \n",
      "A value is trying to be set on a copy of a slice from a DataFrame.\n",
      "Try using .loc[row_indexer,col_indexer] = value instead\n",
      "\n",
      "See the caveats in the documentation: https://pandas.pydata.org/pandas-docs/stable/user_guide/indexing.html#returning-a-view-versus-a-copy\n",
      "  X['average_rides_last_4_weeks'] = 0.25*(\n",
      "[I 2025-07-29 22:47:59,731] Trial 2 finished with value: 2.573220046191954 and parameters: {'num_leaves': 66, 'feature_fraction': 0.7365566047169572, 'bagging_fraction': 0.9920494685700314, 'min_child_samples': 19}. Best is trial 2 with value: 2.573220046191954.\n",
      "/home/talha-naeem/Documents/LLM Work/taxi_demand/src/model.py:16: SettingWithCopyWarning: \n",
      "A value is trying to be set on a copy of a slice from a DataFrame.\n",
      "Try using .loc[row_indexer,col_indexer] = value instead\n",
      "\n",
      "See the caveats in the documentation: https://pandas.pydata.org/pandas-docs/stable/user_guide/indexing.html#returning-a-view-versus-a-copy\n",
      "  X['average_rides_last_4_weeks'] = 0.25*(\n",
      "/home/talha-naeem/Documents/LLM Work/taxi_demand/src/model.py:16: SettingWithCopyWarning: \n",
      "A value is trying to be set on a copy of a slice from a DataFrame.\n",
      "Try using .loc[row_indexer,col_indexer] = value instead\n",
      "\n",
      "See the caveats in the documentation: https://pandas.pydata.org/pandas-docs/stable/user_guide/indexing.html#returning-a-view-versus-a-copy\n",
      "  X['average_rides_last_4_weeks'] = 0.25*(\n",
      "/home/talha-naeem/Documents/LLM Work/taxi_demand/src/model.py:16: SettingWithCopyWarning: \n",
      "A value is trying to be set on a copy of a slice from a DataFrame.\n",
      "Try using .loc[row_indexer,col_indexer] = value instead\n",
      "\n",
      "See the caveats in the documentation: https://pandas.pydata.org/pandas-docs/stable/user_guide/indexing.html#returning-a-view-versus-a-copy\n",
      "  X['average_rides_last_4_weeks'] = 0.25*(\n",
      "/home/talha-naeem/Documents/LLM Work/taxi_demand/src/model.py:16: SettingWithCopyWarning: \n",
      "A value is trying to be set on a copy of a slice from a DataFrame.\n",
      "Try using .loc[row_indexer,col_indexer] = value instead\n",
      "\n",
      "See the caveats in the documentation: https://pandas.pydata.org/pandas-docs/stable/user_guide/indexing.html#returning-a-view-versus-a-copy\n",
      "  X['average_rides_last_4_weeks'] = 0.25*(\n",
      "/home/talha-naeem/Documents/LLM Work/taxi_demand/src/model.py:16: SettingWithCopyWarning: \n",
      "A value is trying to be set on a copy of a slice from a DataFrame.\n",
      "Try using .loc[row_indexer,col_indexer] = value instead\n",
      "\n",
      "See the caveats in the documentation: https://pandas.pydata.org/pandas-docs/stable/user_guide/indexing.html#returning-a-view-versus-a-copy\n",
      "  X['average_rides_last_4_weeks'] = 0.25*(\n",
      "/home/talha-naeem/Documents/LLM Work/taxi_demand/src/model.py:16: SettingWithCopyWarning: \n",
      "A value is trying to be set on a copy of a slice from a DataFrame.\n",
      "Try using .loc[row_indexer,col_indexer] = value instead\n",
      "\n",
      "See the caveats in the documentation: https://pandas.pydata.org/pandas-docs/stable/user_guide/indexing.html#returning-a-view-versus-a-copy\n",
      "  X['average_rides_last_4_weeks'] = 0.25*(\n",
      "[I 2025-07-29 22:48:26,141] Trial 3 finished with value: 2.5649341117988573 and parameters: {'num_leaves': 55, 'feature_fraction': 0.7520836883968063, 'bagging_fraction': 0.4631877954411602, 'min_child_samples': 67}. Best is trial 3 with value: 2.5649341117988573.\n",
      "/home/talha-naeem/Documents/LLM Work/taxi_demand/src/model.py:16: SettingWithCopyWarning: \n",
      "A value is trying to be set on a copy of a slice from a DataFrame.\n",
      "Try using .loc[row_indexer,col_indexer] = value instead\n",
      "\n",
      "See the caveats in the documentation: https://pandas.pydata.org/pandas-docs/stable/user_guide/indexing.html#returning-a-view-versus-a-copy\n",
      "  X['average_rides_last_4_weeks'] = 0.25*(\n",
      "/home/talha-naeem/Documents/LLM Work/taxi_demand/src/model.py:16: SettingWithCopyWarning: \n",
      "A value is trying to be set on a copy of a slice from a DataFrame.\n",
      "Try using .loc[row_indexer,col_indexer] = value instead\n",
      "\n",
      "See the caveats in the documentation: https://pandas.pydata.org/pandas-docs/stable/user_guide/indexing.html#returning-a-view-versus-a-copy\n",
      "  X['average_rides_last_4_weeks'] = 0.25*(\n",
      "/home/talha-naeem/Documents/LLM Work/taxi_demand/src/model.py:16: SettingWithCopyWarning: \n",
      "A value is trying to be set on a copy of a slice from a DataFrame.\n",
      "Try using .loc[row_indexer,col_indexer] = value instead\n",
      "\n",
      "See the caveats in the documentation: https://pandas.pydata.org/pandas-docs/stable/user_guide/indexing.html#returning-a-view-versus-a-copy\n",
      "  X['average_rides_last_4_weeks'] = 0.25*(\n",
      "/home/talha-naeem/Documents/LLM Work/taxi_demand/src/model.py:16: SettingWithCopyWarning: \n",
      "A value is trying to be set on a copy of a slice from a DataFrame.\n",
      "Try using .loc[row_indexer,col_indexer] = value instead\n",
      "\n",
      "See the caveats in the documentation: https://pandas.pydata.org/pandas-docs/stable/user_guide/indexing.html#returning-a-view-versus-a-copy\n",
      "  X['average_rides_last_4_weeks'] = 0.25*(\n",
      "/home/talha-naeem/Documents/LLM Work/taxi_demand/src/model.py:16: SettingWithCopyWarning: \n",
      "A value is trying to be set on a copy of a slice from a DataFrame.\n",
      "Try using .loc[row_indexer,col_indexer] = value instead\n",
      "\n",
      "See the caveats in the documentation: https://pandas.pydata.org/pandas-docs/stable/user_guide/indexing.html#returning-a-view-versus-a-copy\n",
      "  X['average_rides_last_4_weeks'] = 0.25*(\n",
      "/home/talha-naeem/Documents/LLM Work/taxi_demand/src/model.py:16: SettingWithCopyWarning: \n",
      "A value is trying to be set on a copy of a slice from a DataFrame.\n",
      "Try using .loc[row_indexer,col_indexer] = value instead\n",
      "\n",
      "See the caveats in the documentation: https://pandas.pydata.org/pandas-docs/stable/user_guide/indexing.html#returning-a-view-versus-a-copy\n",
      "  X['average_rides_last_4_weeks'] = 0.25*(\n",
      "[I 2025-07-29 22:48:36,154] Trial 4 finished with value: 2.801831003888544 and parameters: {'num_leaves': 7, 'feature_fraction': 0.2060046083603675, 'bagging_fraction': 0.5263131128896777, 'min_child_samples': 71}. Best is trial 3 with value: 2.5649341117988573.\n"
     ]
    }
   ],
   "source": [
    "study = optuna.create_study(direction=\"minimize\")\n",
    "study.optimize(objective, n_trials=5)"
   ]
  },
  {
   "cell_type": "code",
   "execution_count": 8,
   "id": "05c97c8b",
   "metadata": {},
   "outputs": [
    {
     "name": "stdout",
     "output_type": "stream",
     "text": [
      "best_params={'num_leaves': 55, 'feature_fraction': 0.7520836883968063, 'bagging_fraction': 0.4631877954411602, 'min_child_samples': 67}\n"
     ]
    }
   ],
   "source": [
    "best_params = study.best_trial.params\n",
    "print(f'{best_params=}')"
   ]
  },
  {
   "cell_type": "code",
   "execution_count": 9,
   "id": "ba116b27",
   "metadata": {},
   "outputs": [
    {
     "data": {
      "text/html": [
       "<style>#sk-container-id-1 {\n",
       "  /* Definition of color scheme common for light and dark mode */\n",
       "  --sklearn-color-text: #000;\n",
       "  --sklearn-color-text-muted: #666;\n",
       "  --sklearn-color-line: gray;\n",
       "  /* Definition of color scheme for unfitted estimators */\n",
       "  --sklearn-color-unfitted-level-0: #fff5e6;\n",
       "  --sklearn-color-unfitted-level-1: #f6e4d2;\n",
       "  --sklearn-color-unfitted-level-2: #ffe0b3;\n",
       "  --sklearn-color-unfitted-level-3: chocolate;\n",
       "  /* Definition of color scheme for fitted estimators */\n",
       "  --sklearn-color-fitted-level-0: #f0f8ff;\n",
       "  --sklearn-color-fitted-level-1: #d4ebff;\n",
       "  --sklearn-color-fitted-level-2: #b3dbfd;\n",
       "  --sklearn-color-fitted-level-3: cornflowerblue;\n",
       "\n",
       "  /* Specific color for light theme */\n",
       "  --sklearn-color-text-on-default-background: var(--sg-text-color, var(--theme-code-foreground, var(--jp-content-font-color1, black)));\n",
       "  --sklearn-color-background: var(--sg-background-color, var(--theme-background, var(--jp-layout-color0, white)));\n",
       "  --sklearn-color-border-box: var(--sg-text-color, var(--theme-code-foreground, var(--jp-content-font-color1, black)));\n",
       "  --sklearn-color-icon: #696969;\n",
       "\n",
       "  @media (prefers-color-scheme: dark) {\n",
       "    /* Redefinition of color scheme for dark theme */\n",
       "    --sklearn-color-text-on-default-background: var(--sg-text-color, var(--theme-code-foreground, var(--jp-content-font-color1, white)));\n",
       "    --sklearn-color-background: var(--sg-background-color, var(--theme-background, var(--jp-layout-color0, #111)));\n",
       "    --sklearn-color-border-box: var(--sg-text-color, var(--theme-code-foreground, var(--jp-content-font-color1, white)));\n",
       "    --sklearn-color-icon: #878787;\n",
       "  }\n",
       "}\n",
       "\n",
       "#sk-container-id-1 {\n",
       "  color: var(--sklearn-color-text);\n",
       "}\n",
       "\n",
       "#sk-container-id-1 pre {\n",
       "  padding: 0;\n",
       "}\n",
       "\n",
       "#sk-container-id-1 input.sk-hidden--visually {\n",
       "  border: 0;\n",
       "  clip: rect(1px 1px 1px 1px);\n",
       "  clip: rect(1px, 1px, 1px, 1px);\n",
       "  height: 1px;\n",
       "  margin: -1px;\n",
       "  overflow: hidden;\n",
       "  padding: 0;\n",
       "  position: absolute;\n",
       "  width: 1px;\n",
       "}\n",
       "\n",
       "#sk-container-id-1 div.sk-dashed-wrapped {\n",
       "  border: 1px dashed var(--sklearn-color-line);\n",
       "  margin: 0 0.4em 0.5em 0.4em;\n",
       "  box-sizing: border-box;\n",
       "  padding-bottom: 0.4em;\n",
       "  background-color: var(--sklearn-color-background);\n",
       "}\n",
       "\n",
       "#sk-container-id-1 div.sk-container {\n",
       "  /* jupyter's `normalize.less` sets `[hidden] { display: none; }`\n",
       "     but bootstrap.min.css set `[hidden] { display: none !important; }`\n",
       "     so we also need the `!important` here to be able to override the\n",
       "     default hidden behavior on the sphinx rendered scikit-learn.org.\n",
       "     See: https://github.com/scikit-learn/scikit-learn/issues/21755 */\n",
       "  display: inline-block !important;\n",
       "  position: relative;\n",
       "}\n",
       "\n",
       "#sk-container-id-1 div.sk-text-repr-fallback {\n",
       "  display: none;\n",
       "}\n",
       "\n",
       "div.sk-parallel-item,\n",
       "div.sk-serial,\n",
       "div.sk-item {\n",
       "  /* draw centered vertical line to link estimators */\n",
       "  background-image: linear-gradient(var(--sklearn-color-text-on-default-background), var(--sklearn-color-text-on-default-background));\n",
       "  background-size: 2px 100%;\n",
       "  background-repeat: no-repeat;\n",
       "  background-position: center center;\n",
       "}\n",
       "\n",
       "/* Parallel-specific style estimator block */\n",
       "\n",
       "#sk-container-id-1 div.sk-parallel-item::after {\n",
       "  content: \"\";\n",
       "  width: 100%;\n",
       "  border-bottom: 2px solid var(--sklearn-color-text-on-default-background);\n",
       "  flex-grow: 1;\n",
       "}\n",
       "\n",
       "#sk-container-id-1 div.sk-parallel {\n",
       "  display: flex;\n",
       "  align-items: stretch;\n",
       "  justify-content: center;\n",
       "  background-color: var(--sklearn-color-background);\n",
       "  position: relative;\n",
       "}\n",
       "\n",
       "#sk-container-id-1 div.sk-parallel-item {\n",
       "  display: flex;\n",
       "  flex-direction: column;\n",
       "}\n",
       "\n",
       "#sk-container-id-1 div.sk-parallel-item:first-child::after {\n",
       "  align-self: flex-end;\n",
       "  width: 50%;\n",
       "}\n",
       "\n",
       "#sk-container-id-1 div.sk-parallel-item:last-child::after {\n",
       "  align-self: flex-start;\n",
       "  width: 50%;\n",
       "}\n",
       "\n",
       "#sk-container-id-1 div.sk-parallel-item:only-child::after {\n",
       "  width: 0;\n",
       "}\n",
       "\n",
       "/* Serial-specific style estimator block */\n",
       "\n",
       "#sk-container-id-1 div.sk-serial {\n",
       "  display: flex;\n",
       "  flex-direction: column;\n",
       "  align-items: center;\n",
       "  background-color: var(--sklearn-color-background);\n",
       "  padding-right: 1em;\n",
       "  padding-left: 1em;\n",
       "}\n",
       "\n",
       "\n",
       "/* Toggleable style: style used for estimator/Pipeline/ColumnTransformer box that is\n",
       "clickable and can be expanded/collapsed.\n",
       "- Pipeline and ColumnTransformer use this feature and define the default style\n",
       "- Estimators will overwrite some part of the style using the `sk-estimator` class\n",
       "*/\n",
       "\n",
       "/* Pipeline and ColumnTransformer style (default) */\n",
       "\n",
       "#sk-container-id-1 div.sk-toggleable {\n",
       "  /* Default theme specific background. It is overwritten whether we have a\n",
       "  specific estimator or a Pipeline/ColumnTransformer */\n",
       "  background-color: var(--sklearn-color-background);\n",
       "}\n",
       "\n",
       "/* Toggleable label */\n",
       "#sk-container-id-1 label.sk-toggleable__label {\n",
       "  cursor: pointer;\n",
       "  display: flex;\n",
       "  width: 100%;\n",
       "  margin-bottom: 0;\n",
       "  padding: 0.5em;\n",
       "  box-sizing: border-box;\n",
       "  text-align: center;\n",
       "  align-items: start;\n",
       "  justify-content: space-between;\n",
       "  gap: 0.5em;\n",
       "}\n",
       "\n",
       "#sk-container-id-1 label.sk-toggleable__label .caption {\n",
       "  font-size: 0.6rem;\n",
       "  font-weight: lighter;\n",
       "  color: var(--sklearn-color-text-muted);\n",
       "}\n",
       "\n",
       "#sk-container-id-1 label.sk-toggleable__label-arrow:before {\n",
       "  /* Arrow on the left of the label */\n",
       "  content: \"▸\";\n",
       "  float: left;\n",
       "  margin-right: 0.25em;\n",
       "  color: var(--sklearn-color-icon);\n",
       "}\n",
       "\n",
       "#sk-container-id-1 label.sk-toggleable__label-arrow:hover:before {\n",
       "  color: var(--sklearn-color-text);\n",
       "}\n",
       "\n",
       "/* Toggleable content - dropdown */\n",
       "\n",
       "#sk-container-id-1 div.sk-toggleable__content {\n",
       "  display: none;\n",
       "  text-align: left;\n",
       "  /* unfitted */\n",
       "  background-color: var(--sklearn-color-unfitted-level-0);\n",
       "}\n",
       "\n",
       "#sk-container-id-1 div.sk-toggleable__content.fitted {\n",
       "  /* fitted */\n",
       "  background-color: var(--sklearn-color-fitted-level-0);\n",
       "}\n",
       "\n",
       "#sk-container-id-1 div.sk-toggleable__content pre {\n",
       "  margin: 0.2em;\n",
       "  border-radius: 0.25em;\n",
       "  color: var(--sklearn-color-text);\n",
       "  /* unfitted */\n",
       "  background-color: var(--sklearn-color-unfitted-level-0);\n",
       "}\n",
       "\n",
       "#sk-container-id-1 div.sk-toggleable__content.fitted pre {\n",
       "  /* unfitted */\n",
       "  background-color: var(--sklearn-color-fitted-level-0);\n",
       "}\n",
       "\n",
       "#sk-container-id-1 input.sk-toggleable__control:checked~div.sk-toggleable__content {\n",
       "  /* Expand drop-down */\n",
       "  display: block;\n",
       "  width: 100%;\n",
       "  overflow: visible;\n",
       "}\n",
       "\n",
       "#sk-container-id-1 input.sk-toggleable__control:checked~label.sk-toggleable__label-arrow:before {\n",
       "  content: \"▾\";\n",
       "}\n",
       "\n",
       "/* Pipeline/ColumnTransformer-specific style */\n",
       "\n",
       "#sk-container-id-1 div.sk-label input.sk-toggleable__control:checked~label.sk-toggleable__label {\n",
       "  color: var(--sklearn-color-text);\n",
       "  background-color: var(--sklearn-color-unfitted-level-2);\n",
       "}\n",
       "\n",
       "#sk-container-id-1 div.sk-label.fitted input.sk-toggleable__control:checked~label.sk-toggleable__label {\n",
       "  background-color: var(--sklearn-color-fitted-level-2);\n",
       "}\n",
       "\n",
       "/* Estimator-specific style */\n",
       "\n",
       "/* Colorize estimator box */\n",
       "#sk-container-id-1 div.sk-estimator input.sk-toggleable__control:checked~label.sk-toggleable__label {\n",
       "  /* unfitted */\n",
       "  background-color: var(--sklearn-color-unfitted-level-2);\n",
       "}\n",
       "\n",
       "#sk-container-id-1 div.sk-estimator.fitted input.sk-toggleable__control:checked~label.sk-toggleable__label {\n",
       "  /* fitted */\n",
       "  background-color: var(--sklearn-color-fitted-level-2);\n",
       "}\n",
       "\n",
       "#sk-container-id-1 div.sk-label label.sk-toggleable__label,\n",
       "#sk-container-id-1 div.sk-label label {\n",
       "  /* The background is the default theme color */\n",
       "  color: var(--sklearn-color-text-on-default-background);\n",
       "}\n",
       "\n",
       "/* On hover, darken the color of the background */\n",
       "#sk-container-id-1 div.sk-label:hover label.sk-toggleable__label {\n",
       "  color: var(--sklearn-color-text);\n",
       "  background-color: var(--sklearn-color-unfitted-level-2);\n",
       "}\n",
       "\n",
       "/* Label box, darken color on hover, fitted */\n",
       "#sk-container-id-1 div.sk-label.fitted:hover label.sk-toggleable__label.fitted {\n",
       "  color: var(--sklearn-color-text);\n",
       "  background-color: var(--sklearn-color-fitted-level-2);\n",
       "}\n",
       "\n",
       "/* Estimator label */\n",
       "\n",
       "#sk-container-id-1 div.sk-label label {\n",
       "  font-family: monospace;\n",
       "  font-weight: bold;\n",
       "  display: inline-block;\n",
       "  line-height: 1.2em;\n",
       "}\n",
       "\n",
       "#sk-container-id-1 div.sk-label-container {\n",
       "  text-align: center;\n",
       "}\n",
       "\n",
       "/* Estimator-specific */\n",
       "#sk-container-id-1 div.sk-estimator {\n",
       "  font-family: monospace;\n",
       "  border: 1px dotted var(--sklearn-color-border-box);\n",
       "  border-radius: 0.25em;\n",
       "  box-sizing: border-box;\n",
       "  margin-bottom: 0.5em;\n",
       "  /* unfitted */\n",
       "  background-color: var(--sklearn-color-unfitted-level-0);\n",
       "}\n",
       "\n",
       "#sk-container-id-1 div.sk-estimator.fitted {\n",
       "  /* fitted */\n",
       "  background-color: var(--sklearn-color-fitted-level-0);\n",
       "}\n",
       "\n",
       "/* on hover */\n",
       "#sk-container-id-1 div.sk-estimator:hover {\n",
       "  /* unfitted */\n",
       "  background-color: var(--sklearn-color-unfitted-level-2);\n",
       "}\n",
       "\n",
       "#sk-container-id-1 div.sk-estimator.fitted:hover {\n",
       "  /* fitted */\n",
       "  background-color: var(--sklearn-color-fitted-level-2);\n",
       "}\n",
       "\n",
       "/* Specification for estimator info (e.g. \"i\" and \"?\") */\n",
       "\n",
       "/* Common style for \"i\" and \"?\" */\n",
       "\n",
       ".sk-estimator-doc-link,\n",
       "a:link.sk-estimator-doc-link,\n",
       "a:visited.sk-estimator-doc-link {\n",
       "  float: right;\n",
       "  font-size: smaller;\n",
       "  line-height: 1em;\n",
       "  font-family: monospace;\n",
       "  background-color: var(--sklearn-color-background);\n",
       "  border-radius: 1em;\n",
       "  height: 1em;\n",
       "  width: 1em;\n",
       "  text-decoration: none !important;\n",
       "  margin-left: 0.5em;\n",
       "  text-align: center;\n",
       "  /* unfitted */\n",
       "  border: var(--sklearn-color-unfitted-level-1) 1pt solid;\n",
       "  color: var(--sklearn-color-unfitted-level-1);\n",
       "}\n",
       "\n",
       ".sk-estimator-doc-link.fitted,\n",
       "a:link.sk-estimator-doc-link.fitted,\n",
       "a:visited.sk-estimator-doc-link.fitted {\n",
       "  /* fitted */\n",
       "  border: var(--sklearn-color-fitted-level-1) 1pt solid;\n",
       "  color: var(--sklearn-color-fitted-level-1);\n",
       "}\n",
       "\n",
       "/* On hover */\n",
       "div.sk-estimator:hover .sk-estimator-doc-link:hover,\n",
       ".sk-estimator-doc-link:hover,\n",
       "div.sk-label-container:hover .sk-estimator-doc-link:hover,\n",
       ".sk-estimator-doc-link:hover {\n",
       "  /* unfitted */\n",
       "  background-color: var(--sklearn-color-unfitted-level-3);\n",
       "  color: var(--sklearn-color-background);\n",
       "  text-decoration: none;\n",
       "}\n",
       "\n",
       "div.sk-estimator.fitted:hover .sk-estimator-doc-link.fitted:hover,\n",
       ".sk-estimator-doc-link.fitted:hover,\n",
       "div.sk-label-container:hover .sk-estimator-doc-link.fitted:hover,\n",
       ".sk-estimator-doc-link.fitted:hover {\n",
       "  /* fitted */\n",
       "  background-color: var(--sklearn-color-fitted-level-3);\n",
       "  color: var(--sklearn-color-background);\n",
       "  text-decoration: none;\n",
       "}\n",
       "\n",
       "/* Span, style for the box shown on hovering the info icon */\n",
       ".sk-estimator-doc-link span {\n",
       "  display: none;\n",
       "  z-index: 9999;\n",
       "  position: relative;\n",
       "  font-weight: normal;\n",
       "  right: .2ex;\n",
       "  padding: .5ex;\n",
       "  margin: .5ex;\n",
       "  width: min-content;\n",
       "  min-width: 20ex;\n",
       "  max-width: 50ex;\n",
       "  color: var(--sklearn-color-text);\n",
       "  box-shadow: 2pt 2pt 4pt #999;\n",
       "  /* unfitted */\n",
       "  background: var(--sklearn-color-unfitted-level-0);\n",
       "  border: .5pt solid var(--sklearn-color-unfitted-level-3);\n",
       "}\n",
       "\n",
       ".sk-estimator-doc-link.fitted span {\n",
       "  /* fitted */\n",
       "  background: var(--sklearn-color-fitted-level-0);\n",
       "  border: var(--sklearn-color-fitted-level-3);\n",
       "}\n",
       "\n",
       ".sk-estimator-doc-link:hover span {\n",
       "  display: block;\n",
       "}\n",
       "\n",
       "/* \"?\"-specific style due to the `<a>` HTML tag */\n",
       "\n",
       "#sk-container-id-1 a.estimator_doc_link {\n",
       "  float: right;\n",
       "  font-size: 1rem;\n",
       "  line-height: 1em;\n",
       "  font-family: monospace;\n",
       "  background-color: var(--sklearn-color-background);\n",
       "  border-radius: 1rem;\n",
       "  height: 1rem;\n",
       "  width: 1rem;\n",
       "  text-decoration: none;\n",
       "  /* unfitted */\n",
       "  color: var(--sklearn-color-unfitted-level-1);\n",
       "  border: var(--sklearn-color-unfitted-level-1) 1pt solid;\n",
       "}\n",
       "\n",
       "#sk-container-id-1 a.estimator_doc_link.fitted {\n",
       "  /* fitted */\n",
       "  border: var(--sklearn-color-fitted-level-1) 1pt solid;\n",
       "  color: var(--sklearn-color-fitted-level-1);\n",
       "}\n",
       "\n",
       "/* On hover */\n",
       "#sk-container-id-1 a.estimator_doc_link:hover {\n",
       "  /* unfitted */\n",
       "  background-color: var(--sklearn-color-unfitted-level-3);\n",
       "  color: var(--sklearn-color-background);\n",
       "  text-decoration: none;\n",
       "}\n",
       "\n",
       "#sk-container-id-1 a.estimator_doc_link.fitted:hover {\n",
       "  /* fitted */\n",
       "  background-color: var(--sklearn-color-fitted-level-3);\n",
       "}\n",
       "\n",
       ".estimator-table summary {\n",
       "    padding: .5rem;\n",
       "    font-family: monospace;\n",
       "    cursor: pointer;\n",
       "}\n",
       "\n",
       ".estimator-table details[open] {\n",
       "    padding-left: 0.1rem;\n",
       "    padding-right: 0.1rem;\n",
       "    padding-bottom: 0.3rem;\n",
       "}\n",
       "\n",
       ".estimator-table .parameters-table {\n",
       "    margin-left: auto !important;\n",
       "    margin-right: auto !important;\n",
       "}\n",
       "\n",
       ".estimator-table .parameters-table tr:nth-child(odd) {\n",
       "    background-color: #fff;\n",
       "}\n",
       "\n",
       ".estimator-table .parameters-table tr:nth-child(even) {\n",
       "    background-color: #f6f6f6;\n",
       "}\n",
       "\n",
       ".estimator-table .parameters-table tr:hover {\n",
       "    background-color: #e0e0e0;\n",
       "}\n",
       "\n",
       ".estimator-table table td {\n",
       "    border: 1px solid rgba(106, 105, 104, 0.232);\n",
       "}\n",
       "\n",
       ".user-set td {\n",
       "    color:rgb(255, 94, 0);\n",
       "    text-align: left;\n",
       "}\n",
       "\n",
       ".user-set td.value pre {\n",
       "    color:rgb(255, 94, 0) !important;\n",
       "    background-color: transparent !important;\n",
       "}\n",
       "\n",
       ".default td {\n",
       "    color: black;\n",
       "    text-align: left;\n",
       "}\n",
       "\n",
       ".user-set td i,\n",
       ".default td i {\n",
       "    color: black;\n",
       "}\n",
       "\n",
       ".copy-paste-icon {\n",
       "    background-image: url(data:image/svg+xml;base64,PHN2ZyB4bWxucz0iaHR0cDovL3d3dy53My5vcmcvMjAwMC9zdmciIHZpZXdCb3g9IjAgMCA0NDggNTEyIj48IS0tIUZvbnQgQXdlc29tZSBGcmVlIDYuNy4yIGJ5IEBmb250YXdlc29tZSAtIGh0dHBzOi8vZm9udGF3ZXNvbWUuY29tIExpY2Vuc2UgLSBodHRwczovL2ZvbnRhd2Vzb21lLmNvbS9saWNlbnNlL2ZyZWUgQ29weXJpZ2h0IDIwMjUgRm9udGljb25zLCBJbmMuLS0+PHBhdGggZD0iTTIwOCAwTDMzMi4xIDBjMTIuNyAwIDI0LjkgNS4xIDMzLjkgMTQuMWw2Ny45IDY3LjljOSA5IDE0LjEgMjEuMiAxNC4xIDMzLjlMNDQ4IDMzNmMwIDI2LjUtMjEuNSA0OC00OCA0OGwtMTkyIDBjLTI2LjUgMC00OC0yMS41LTQ4LTQ4bDAtMjg4YzAtMjYuNSAyMS41LTQ4IDQ4LTQ4ek00OCAxMjhsODAgMCAwIDY0LTY0IDAgMCAyNTYgMTkyIDAgMC0zMiA2NCAwIDAgNDhjMCAyNi41LTIxLjUgNDgtNDggNDhMNDggNTEyYy0yNi41IDAtNDgtMjEuNS00OC00OEwwIDE3NmMwLTI2LjUgMjEuNS00OCA0OC00OHoiLz48L3N2Zz4=);\n",
       "    background-repeat: no-repeat;\n",
       "    background-size: 14px 14px;\n",
       "    background-position: 0;\n",
       "    display: inline-block;\n",
       "    width: 14px;\n",
       "    height: 14px;\n",
       "    cursor: pointer;\n",
       "}\n",
       "</style><body><div id=\"sk-container-id-1\" class=\"sk-top-container\"><div class=\"sk-text-repr-fallback\"><pre>Pipeline(steps=[(&#x27;functiontransformer&#x27;,\n",
       "                 FunctionTransformer(func=&lt;function average_rides_last_4_weeks at 0x7fd02a2474c0&gt;)),\n",
       "                (&#x27;temporalfeaturesengineer&#x27;, TemporalFeaturesEngineer()),\n",
       "                (&#x27;lgbmregressor&#x27;,\n",
       "                 LGBMRegressor(bagging_fraction=0.4631877954411602,\n",
       "                               feature_fraction=0.7520836883968063,\n",
       "                               min_child_samples=67, num_leaves=55))])</pre><b>In a Jupyter environment, please rerun this cell to show the HTML representation or trust the notebook. <br />On GitHub, the HTML representation is unable to render, please try loading this page with nbviewer.org.</b></div><div class=\"sk-container\" hidden><div class=\"sk-item sk-dashed-wrapped\"><div class=\"sk-label-container\"><div class=\"sk-label fitted sk-toggleable\"><input class=\"sk-toggleable__control sk-hidden--visually\" id=\"sk-estimator-id-1\" type=\"checkbox\" ><label for=\"sk-estimator-id-1\" class=\"sk-toggleable__label fitted sk-toggleable__label-arrow\"><div><div>Pipeline</div></div><div><a class=\"sk-estimator-doc-link fitted\" rel=\"noreferrer\" target=\"_blank\" href=\"https://scikit-learn.org/1.7/modules/generated/sklearn.pipeline.Pipeline.html\">?<span>Documentation for Pipeline</span></a><span class=\"sk-estimator-doc-link fitted\">i<span>Fitted</span></span></div></label><div class=\"sk-toggleable__content fitted\" data-param-prefix=\"\">\n",
       "        <div class=\"estimator-table\">\n",
       "            <details>\n",
       "                <summary>Parameters</summary>\n",
       "                <table class=\"parameters-table\">\n",
       "                  <tbody>\n",
       "                    \n",
       "        <tr class=\"user-set\">\n",
       "            <td><i class=\"copy-paste-icon\"\n",
       "                 onclick=\"copyToClipboard('steps',\n",
       "                          this.parentElement.nextElementSibling)\"\n",
       "            ></i></td>\n",
       "            <td class=\"param\">steps&nbsp;</td>\n",
       "            <td class=\"value\">[(&#x27;functiontransformer&#x27;, ...), (&#x27;temporalfeaturesengineer&#x27;, ...), ...]</td>\n",
       "        </tr>\n",
       "    \n",
       "\n",
       "        <tr class=\"default\">\n",
       "            <td><i class=\"copy-paste-icon\"\n",
       "                 onclick=\"copyToClipboard('transform_input',\n",
       "                          this.parentElement.nextElementSibling)\"\n",
       "            ></i></td>\n",
       "            <td class=\"param\">transform_input&nbsp;</td>\n",
       "            <td class=\"value\">None</td>\n",
       "        </tr>\n",
       "    \n",
       "\n",
       "        <tr class=\"default\">\n",
       "            <td><i class=\"copy-paste-icon\"\n",
       "                 onclick=\"copyToClipboard('memory',\n",
       "                          this.parentElement.nextElementSibling)\"\n",
       "            ></i></td>\n",
       "            <td class=\"param\">memory&nbsp;</td>\n",
       "            <td class=\"value\">None</td>\n",
       "        </tr>\n",
       "    \n",
       "\n",
       "        <tr class=\"default\">\n",
       "            <td><i class=\"copy-paste-icon\"\n",
       "                 onclick=\"copyToClipboard('verbose',\n",
       "                          this.parentElement.nextElementSibling)\"\n",
       "            ></i></td>\n",
       "            <td class=\"param\">verbose&nbsp;</td>\n",
       "            <td class=\"value\">False</td>\n",
       "        </tr>\n",
       "    \n",
       "                  </tbody>\n",
       "                </table>\n",
       "            </details>\n",
       "        </div>\n",
       "    </div></div></div><div class=\"sk-serial\"><div class=\"sk-item\"><div class=\"sk-estimator fitted sk-toggleable\"><input class=\"sk-toggleable__control sk-hidden--visually\" id=\"sk-estimator-id-2\" type=\"checkbox\" ><label for=\"sk-estimator-id-2\" class=\"sk-toggleable__label fitted sk-toggleable__label-arrow\"><div><div>average_rides_last_4_weeks</div><div class=\"caption\">FunctionTransformer</div></div><div><a class=\"sk-estimator-doc-link fitted\" rel=\"noreferrer\" target=\"_blank\" href=\"https://scikit-learn.org/1.7/modules/generated/sklearn.preprocessing.FunctionTransformer.html\">?<span>Documentation for FunctionTransformer</span></a></div></label><div class=\"sk-toggleable__content fitted\" data-param-prefix=\"functiontransformer__\">\n",
       "        <div class=\"estimator-table\">\n",
       "            <details>\n",
       "                <summary>Parameters</summary>\n",
       "                <table class=\"parameters-table\">\n",
       "                  <tbody>\n",
       "                    \n",
       "        <tr class=\"user-set\">\n",
       "            <td><i class=\"copy-paste-icon\"\n",
       "                 onclick=\"copyToClipboard('func',\n",
       "                          this.parentElement.nextElementSibling)\"\n",
       "            ></i></td>\n",
       "            <td class=\"param\">func&nbsp;</td>\n",
       "            <td class=\"value\">&lt;function ave...x7fd02a2474c0&gt;</td>\n",
       "        </tr>\n",
       "    \n",
       "\n",
       "        <tr class=\"default\">\n",
       "            <td><i class=\"copy-paste-icon\"\n",
       "                 onclick=\"copyToClipboard('inverse_func',\n",
       "                          this.parentElement.nextElementSibling)\"\n",
       "            ></i></td>\n",
       "            <td class=\"param\">inverse_func&nbsp;</td>\n",
       "            <td class=\"value\">None</td>\n",
       "        </tr>\n",
       "    \n",
       "\n",
       "        <tr class=\"default\">\n",
       "            <td><i class=\"copy-paste-icon\"\n",
       "                 onclick=\"copyToClipboard('validate',\n",
       "                          this.parentElement.nextElementSibling)\"\n",
       "            ></i></td>\n",
       "            <td class=\"param\">validate&nbsp;</td>\n",
       "            <td class=\"value\">False</td>\n",
       "        </tr>\n",
       "    \n",
       "\n",
       "        <tr class=\"default\">\n",
       "            <td><i class=\"copy-paste-icon\"\n",
       "                 onclick=\"copyToClipboard('accept_sparse',\n",
       "                          this.parentElement.nextElementSibling)\"\n",
       "            ></i></td>\n",
       "            <td class=\"param\">accept_sparse&nbsp;</td>\n",
       "            <td class=\"value\">False</td>\n",
       "        </tr>\n",
       "    \n",
       "\n",
       "        <tr class=\"default\">\n",
       "            <td><i class=\"copy-paste-icon\"\n",
       "                 onclick=\"copyToClipboard('check_inverse',\n",
       "                          this.parentElement.nextElementSibling)\"\n",
       "            ></i></td>\n",
       "            <td class=\"param\">check_inverse&nbsp;</td>\n",
       "            <td class=\"value\">True</td>\n",
       "        </tr>\n",
       "    \n",
       "\n",
       "        <tr class=\"default\">\n",
       "            <td><i class=\"copy-paste-icon\"\n",
       "                 onclick=\"copyToClipboard('feature_names_out',\n",
       "                          this.parentElement.nextElementSibling)\"\n",
       "            ></i></td>\n",
       "            <td class=\"param\">feature_names_out&nbsp;</td>\n",
       "            <td class=\"value\">None</td>\n",
       "        </tr>\n",
       "    \n",
       "\n",
       "        <tr class=\"default\">\n",
       "            <td><i class=\"copy-paste-icon\"\n",
       "                 onclick=\"copyToClipboard('kw_args',\n",
       "                          this.parentElement.nextElementSibling)\"\n",
       "            ></i></td>\n",
       "            <td class=\"param\">kw_args&nbsp;</td>\n",
       "            <td class=\"value\">None</td>\n",
       "        </tr>\n",
       "    \n",
       "\n",
       "        <tr class=\"default\">\n",
       "            <td><i class=\"copy-paste-icon\"\n",
       "                 onclick=\"copyToClipboard('inv_kw_args',\n",
       "                          this.parentElement.nextElementSibling)\"\n",
       "            ></i></td>\n",
       "            <td class=\"param\">inv_kw_args&nbsp;</td>\n",
       "            <td class=\"value\">None</td>\n",
       "        </tr>\n",
       "    \n",
       "                  </tbody>\n",
       "                </table>\n",
       "            </details>\n",
       "        </div>\n",
       "    </div></div></div><div class=\"sk-item\"><div class=\"sk-estimator fitted sk-toggleable\"><input class=\"sk-toggleable__control sk-hidden--visually\" id=\"sk-estimator-id-3\" type=\"checkbox\" ><label for=\"sk-estimator-id-3\" class=\"sk-toggleable__label fitted sk-toggleable__label-arrow\"><div><div>TemporalFeaturesEngineer</div></div></label><div class=\"sk-toggleable__content fitted\" data-param-prefix=\"temporalfeaturesengineer__\">\n",
       "        <div class=\"estimator-table\">\n",
       "            <details>\n",
       "                <summary>Parameters</summary>\n",
       "                <table class=\"parameters-table\">\n",
       "                  <tbody>\n",
       "                    \n",
       "                  </tbody>\n",
       "                </table>\n",
       "            </details>\n",
       "        </div>\n",
       "    </div></div></div><div class=\"sk-item\"><div class=\"sk-estimator fitted sk-toggleable\"><input class=\"sk-toggleable__control sk-hidden--visually\" id=\"sk-estimator-id-4\" type=\"checkbox\" ><label for=\"sk-estimator-id-4\" class=\"sk-toggleable__label fitted sk-toggleable__label-arrow\"><div><div>LGBMRegressor</div></div></label><div class=\"sk-toggleable__content fitted\" data-param-prefix=\"lgbmregressor__\">\n",
       "        <div class=\"estimator-table\">\n",
       "            <details>\n",
       "                <summary>Parameters</summary>\n",
       "                <table class=\"parameters-table\">\n",
       "                  <tbody>\n",
       "                    \n",
       "        <tr class=\"default\">\n",
       "            <td><i class=\"copy-paste-icon\"\n",
       "                 onclick=\"copyToClipboard('boosting_type',\n",
       "                          this.parentElement.nextElementSibling)\"\n",
       "            ></i></td>\n",
       "            <td class=\"param\">boosting_type&nbsp;</td>\n",
       "            <td class=\"value\">&#x27;gbdt&#x27;</td>\n",
       "        </tr>\n",
       "    \n",
       "\n",
       "        <tr class=\"user-set\">\n",
       "            <td><i class=\"copy-paste-icon\"\n",
       "                 onclick=\"copyToClipboard('num_leaves',\n",
       "                          this.parentElement.nextElementSibling)\"\n",
       "            ></i></td>\n",
       "            <td class=\"param\">num_leaves&nbsp;</td>\n",
       "            <td class=\"value\">55</td>\n",
       "        </tr>\n",
       "    \n",
       "\n",
       "        <tr class=\"default\">\n",
       "            <td><i class=\"copy-paste-icon\"\n",
       "                 onclick=\"copyToClipboard('max_depth',\n",
       "                          this.parentElement.nextElementSibling)\"\n",
       "            ></i></td>\n",
       "            <td class=\"param\">max_depth&nbsp;</td>\n",
       "            <td class=\"value\">-1</td>\n",
       "        </tr>\n",
       "    \n",
       "\n",
       "        <tr class=\"default\">\n",
       "            <td><i class=\"copy-paste-icon\"\n",
       "                 onclick=\"copyToClipboard('learning_rate',\n",
       "                          this.parentElement.nextElementSibling)\"\n",
       "            ></i></td>\n",
       "            <td class=\"param\">learning_rate&nbsp;</td>\n",
       "            <td class=\"value\">0.1</td>\n",
       "        </tr>\n",
       "    \n",
       "\n",
       "        <tr class=\"default\">\n",
       "            <td><i class=\"copy-paste-icon\"\n",
       "                 onclick=\"copyToClipboard('n_estimators',\n",
       "                          this.parentElement.nextElementSibling)\"\n",
       "            ></i></td>\n",
       "            <td class=\"param\">n_estimators&nbsp;</td>\n",
       "            <td class=\"value\">100</td>\n",
       "        </tr>\n",
       "    \n",
       "\n",
       "        <tr class=\"default\">\n",
       "            <td><i class=\"copy-paste-icon\"\n",
       "                 onclick=\"copyToClipboard('subsample_for_bin',\n",
       "                          this.parentElement.nextElementSibling)\"\n",
       "            ></i></td>\n",
       "            <td class=\"param\">subsample_for_bin&nbsp;</td>\n",
       "            <td class=\"value\">200000</td>\n",
       "        </tr>\n",
       "    \n",
       "\n",
       "        <tr class=\"default\">\n",
       "            <td><i class=\"copy-paste-icon\"\n",
       "                 onclick=\"copyToClipboard('objective',\n",
       "                          this.parentElement.nextElementSibling)\"\n",
       "            ></i></td>\n",
       "            <td class=\"param\">objective&nbsp;</td>\n",
       "            <td class=\"value\">None</td>\n",
       "        </tr>\n",
       "    \n",
       "\n",
       "        <tr class=\"default\">\n",
       "            <td><i class=\"copy-paste-icon\"\n",
       "                 onclick=\"copyToClipboard('class_weight',\n",
       "                          this.parentElement.nextElementSibling)\"\n",
       "            ></i></td>\n",
       "            <td class=\"param\">class_weight&nbsp;</td>\n",
       "            <td class=\"value\">None</td>\n",
       "        </tr>\n",
       "    \n",
       "\n",
       "        <tr class=\"default\">\n",
       "            <td><i class=\"copy-paste-icon\"\n",
       "                 onclick=\"copyToClipboard('min_split_gain',\n",
       "                          this.parentElement.nextElementSibling)\"\n",
       "            ></i></td>\n",
       "            <td class=\"param\">min_split_gain&nbsp;</td>\n",
       "            <td class=\"value\">0.0</td>\n",
       "        </tr>\n",
       "    \n",
       "\n",
       "        <tr class=\"default\">\n",
       "            <td><i class=\"copy-paste-icon\"\n",
       "                 onclick=\"copyToClipboard('min_child_weight',\n",
       "                          this.parentElement.nextElementSibling)\"\n",
       "            ></i></td>\n",
       "            <td class=\"param\">min_child_weight&nbsp;</td>\n",
       "            <td class=\"value\">0.001</td>\n",
       "        </tr>\n",
       "    \n",
       "\n",
       "        <tr class=\"user-set\">\n",
       "            <td><i class=\"copy-paste-icon\"\n",
       "                 onclick=\"copyToClipboard('min_child_samples',\n",
       "                          this.parentElement.nextElementSibling)\"\n",
       "            ></i></td>\n",
       "            <td class=\"param\">min_child_samples&nbsp;</td>\n",
       "            <td class=\"value\">67</td>\n",
       "        </tr>\n",
       "    \n",
       "\n",
       "        <tr class=\"default\">\n",
       "            <td><i class=\"copy-paste-icon\"\n",
       "                 onclick=\"copyToClipboard('subsample',\n",
       "                          this.parentElement.nextElementSibling)\"\n",
       "            ></i></td>\n",
       "            <td class=\"param\">subsample&nbsp;</td>\n",
       "            <td class=\"value\">1.0</td>\n",
       "        </tr>\n",
       "    \n",
       "\n",
       "        <tr class=\"default\">\n",
       "            <td><i class=\"copy-paste-icon\"\n",
       "                 onclick=\"copyToClipboard('subsample_freq',\n",
       "                          this.parentElement.nextElementSibling)\"\n",
       "            ></i></td>\n",
       "            <td class=\"param\">subsample_freq&nbsp;</td>\n",
       "            <td class=\"value\">0</td>\n",
       "        </tr>\n",
       "    \n",
       "\n",
       "        <tr class=\"default\">\n",
       "            <td><i class=\"copy-paste-icon\"\n",
       "                 onclick=\"copyToClipboard('colsample_bytree',\n",
       "                          this.parentElement.nextElementSibling)\"\n",
       "            ></i></td>\n",
       "            <td class=\"param\">colsample_bytree&nbsp;</td>\n",
       "            <td class=\"value\">1.0</td>\n",
       "        </tr>\n",
       "    \n",
       "\n",
       "        <tr class=\"default\">\n",
       "            <td><i class=\"copy-paste-icon\"\n",
       "                 onclick=\"copyToClipboard('reg_alpha',\n",
       "                          this.parentElement.nextElementSibling)\"\n",
       "            ></i></td>\n",
       "            <td class=\"param\">reg_alpha&nbsp;</td>\n",
       "            <td class=\"value\">0.0</td>\n",
       "        </tr>\n",
       "    \n",
       "\n",
       "        <tr class=\"default\">\n",
       "            <td><i class=\"copy-paste-icon\"\n",
       "                 onclick=\"copyToClipboard('reg_lambda',\n",
       "                          this.parentElement.nextElementSibling)\"\n",
       "            ></i></td>\n",
       "            <td class=\"param\">reg_lambda&nbsp;</td>\n",
       "            <td class=\"value\">0.0</td>\n",
       "        </tr>\n",
       "    \n",
       "\n",
       "        <tr class=\"default\">\n",
       "            <td><i class=\"copy-paste-icon\"\n",
       "                 onclick=\"copyToClipboard('random_state',\n",
       "                          this.parentElement.nextElementSibling)\"\n",
       "            ></i></td>\n",
       "            <td class=\"param\">random_state&nbsp;</td>\n",
       "            <td class=\"value\">None</td>\n",
       "        </tr>\n",
       "    \n",
       "\n",
       "        <tr class=\"default\">\n",
       "            <td><i class=\"copy-paste-icon\"\n",
       "                 onclick=\"copyToClipboard('n_jobs',\n",
       "                          this.parentElement.nextElementSibling)\"\n",
       "            ></i></td>\n",
       "            <td class=\"param\">n_jobs&nbsp;</td>\n",
       "            <td class=\"value\">None</td>\n",
       "        </tr>\n",
       "    \n",
       "\n",
       "        <tr class=\"default\">\n",
       "            <td><i class=\"copy-paste-icon\"\n",
       "                 onclick=\"copyToClipboard('importance_type',\n",
       "                          this.parentElement.nextElementSibling)\"\n",
       "            ></i></td>\n",
       "            <td class=\"param\">importance_type&nbsp;</td>\n",
       "            <td class=\"value\">&#x27;split&#x27;</td>\n",
       "        </tr>\n",
       "    \n",
       "\n",
       "        <tr class=\"user-set\">\n",
       "            <td><i class=\"copy-paste-icon\"\n",
       "                 onclick=\"copyToClipboard('feature_fraction',\n",
       "                          this.parentElement.nextElementSibling)\"\n",
       "            ></i></td>\n",
       "            <td class=\"param\">feature_fraction&nbsp;</td>\n",
       "            <td class=\"value\">0.7520836883968063</td>\n",
       "        </tr>\n",
       "    \n",
       "\n",
       "        <tr class=\"user-set\">\n",
       "            <td><i class=\"copy-paste-icon\"\n",
       "                 onclick=\"copyToClipboard('bagging_fraction',\n",
       "                          this.parentElement.nextElementSibling)\"\n",
       "            ></i></td>\n",
       "            <td class=\"param\">bagging_fraction&nbsp;</td>\n",
       "            <td class=\"value\">0.4631877954411602</td>\n",
       "        </tr>\n",
       "    \n",
       "                  </tbody>\n",
       "                </table>\n",
       "            </details>\n",
       "        </div>\n",
       "    </div></div></div></div></div></div></div><script>function copyToClipboard(text, element) {\n",
       "    // Get the parameter prefix from the closest toggleable content\n",
       "    const toggleableContent = element.closest('.sk-toggleable__content');\n",
       "    const paramPrefix = toggleableContent ? toggleableContent.dataset.paramPrefix : '';\n",
       "    const fullParamName = paramPrefix ? `${paramPrefix}${text}` : text;\n",
       "\n",
       "    const originalStyle = element.style;\n",
       "    const computedStyle = window.getComputedStyle(element);\n",
       "    const originalWidth = computedStyle.width;\n",
       "    const originalHTML = element.innerHTML.replace('Copied!', '');\n",
       "\n",
       "    navigator.clipboard.writeText(fullParamName)\n",
       "        .then(() => {\n",
       "            element.style.width = originalWidth;\n",
       "            element.style.color = 'green';\n",
       "            element.innerHTML = \"Copied!\";\n",
       "\n",
       "            setTimeout(() => {\n",
       "                element.innerHTML = originalHTML;\n",
       "                element.style = originalStyle;\n",
       "            }, 2000);\n",
       "        })\n",
       "        .catch(err => {\n",
       "            console.error('Failed to copy:', err);\n",
       "            element.style.color = 'red';\n",
       "            element.innerHTML = \"Failed!\";\n",
       "            setTimeout(() => {\n",
       "                element.innerHTML = originalHTML;\n",
       "                element.style = originalStyle;\n",
       "            }, 2000);\n",
       "        });\n",
       "    return false;\n",
       "}\n",
       "\n",
       "document.querySelectorAll('.fa-regular.fa-copy').forEach(function(element) {\n",
       "    const toggleableContent = element.closest('.sk-toggleable__content');\n",
       "    const paramPrefix = toggleableContent ? toggleableContent.dataset.paramPrefix : '';\n",
       "    const paramName = element.parentElement.nextElementSibling.textContent.trim();\n",
       "    const fullParamName = paramPrefix ? `${paramPrefix}${paramName}` : paramName;\n",
       "\n",
       "    element.setAttribute('title', fullParamName);\n",
       "});\n",
       "</script></body>"
      ],
      "text/plain": [
       "Pipeline(steps=[('functiontransformer',\n",
       "                 FunctionTransformer(func=<function average_rides_last_4_weeks at 0x7fd02a2474c0>)),\n",
       "                ('temporalfeaturesengineer', TemporalFeaturesEngineer()),\n",
       "                ('lgbmregressor',\n",
       "                 LGBMRegressor(bagging_fraction=0.4631877954411602,\n",
       "                               feature_fraction=0.7520836883968063,\n",
       "                               min_child_samples=67, num_leaves=55))])"
      ]
     },
     "execution_count": 9,
     "metadata": {},
     "output_type": "execute_result"
    }
   ],
   "source": [
    "pipeline = get_pipeline(**best_params)\n",
    "pipeline.fit(X_train, y_train)"
   ]
  },
  {
   "cell_type": "code",
   "execution_count": 10,
   "id": "773209c5",
   "metadata": {},
   "outputs": [
    {
     "name": "stdout",
     "output_type": "stream",
     "text": [
      "test_mae=2.5263\n"
     ]
    }
   ],
   "source": [
    "predictions = pipeline.predict(X_test)\n",
    "test_mae = mean_absolute_error(y_test, predictions)\n",
    "print(f'{test_mae=:.4f}')"
   ]
  },
  {
   "cell_type": "code",
   "execution_count": 11,
   "id": "0794a258",
   "metadata": {},
   "outputs": [
    {
     "name": "stderr",
     "output_type": "stream",
     "text": [
      "/home/talha-naeem/Documents/LLM Work/taxi_demand/src/plot.py:24: FutureWarning: 'H' is deprecated and will be removed in a future version, please use 'h' instead.\n",
      "  ts_dates = pd.date_range(\n"
     ]
    },
    {
     "data": {
      "application/vnd.plotly.v1+json": {
       "config": {
        "plotlyServerURL": "https://plot.ly"
       },
       "data": [
        {
         "hovertemplate": "x=%{x}<br>y=%{y}<extra></extra>",
         "legendgroup": "",
         "line": {
          "color": "#636efa",
          "dash": "solid"
         },
         "marker": {
          "symbol": "circle"
         },
         "mode": "lines+markers",
         "name": "",
         "orientation": "v",
         "showlegend": false,
         "type": "scatter",
         "x": [
          "2022-11-17T00:00:00.000000000",
          "2022-11-17T01:00:00.000000000",
          "2022-11-17T02:00:00.000000000",
          "2022-11-17T03:00:00.000000000",
          "2022-11-17T04:00:00.000000000",
          "2022-11-17T05:00:00.000000000",
          "2022-11-17T06:00:00.000000000",
          "2022-11-17T07:00:00.000000000",
          "2022-11-17T08:00:00.000000000",
          "2022-11-17T09:00:00.000000000",
          "2022-11-17T10:00:00.000000000",
          "2022-11-17T11:00:00.000000000",
          "2022-11-17T12:00:00.000000000",
          "2022-11-17T13:00:00.000000000",
          "2022-11-17T14:00:00.000000000",
          "2022-11-17T15:00:00.000000000",
          "2022-11-17T16:00:00.000000000",
          "2022-11-17T17:00:00.000000000",
          "2022-11-17T18:00:00.000000000",
          "2022-11-17T19:00:00.000000000",
          "2022-11-17T20:00:00.000000000",
          "2022-11-17T21:00:00.000000000",
          "2022-11-17T22:00:00.000000000",
          "2022-11-17T23:00:00.000000000",
          "2022-11-18T00:00:00.000000000",
          "2022-11-18T01:00:00.000000000",
          "2022-11-18T02:00:00.000000000",
          "2022-11-18T03:00:00.000000000",
          "2022-11-18T04:00:00.000000000",
          "2022-11-18T05:00:00.000000000",
          "2022-11-18T06:00:00.000000000",
          "2022-11-18T07:00:00.000000000",
          "2022-11-18T08:00:00.000000000",
          "2022-11-18T09:00:00.000000000",
          "2022-11-18T10:00:00.000000000",
          "2022-11-18T11:00:00.000000000",
          "2022-11-18T12:00:00.000000000",
          "2022-11-18T13:00:00.000000000",
          "2022-11-18T14:00:00.000000000",
          "2022-11-18T15:00:00.000000000",
          "2022-11-18T16:00:00.000000000",
          "2022-11-18T17:00:00.000000000",
          "2022-11-18T18:00:00.000000000",
          "2022-11-18T19:00:00.000000000",
          "2022-11-18T20:00:00.000000000",
          "2022-11-18T21:00:00.000000000",
          "2022-11-18T22:00:00.000000000",
          "2022-11-18T23:00:00.000000000",
          "2022-11-19T00:00:00.000000000",
          "2022-11-19T01:00:00.000000000",
          "2022-11-19T02:00:00.000000000",
          "2022-11-19T03:00:00.000000000",
          "2022-11-19T04:00:00.000000000",
          "2022-11-19T05:00:00.000000000",
          "2022-11-19T06:00:00.000000000",
          "2022-11-19T07:00:00.000000000",
          "2022-11-19T08:00:00.000000000",
          "2022-11-19T09:00:00.000000000",
          "2022-11-19T10:00:00.000000000",
          "2022-11-19T11:00:00.000000000",
          "2022-11-19T12:00:00.000000000",
          "2022-11-19T13:00:00.000000000",
          "2022-11-19T14:00:00.000000000",
          "2022-11-19T15:00:00.000000000",
          "2022-11-19T16:00:00.000000000",
          "2022-11-19T17:00:00.000000000",
          "2022-11-19T18:00:00.000000000",
          "2022-11-19T19:00:00.000000000",
          "2022-11-19T20:00:00.000000000",
          "2022-11-19T21:00:00.000000000",
          "2022-11-19T22:00:00.000000000",
          "2022-11-19T23:00:00.000000000",
          "2022-11-20T00:00:00.000000000",
          "2022-11-20T01:00:00.000000000",
          "2022-11-20T02:00:00.000000000",
          "2022-11-20T03:00:00.000000000",
          "2022-11-20T04:00:00.000000000",
          "2022-11-20T05:00:00.000000000",
          "2022-11-20T06:00:00.000000000",
          "2022-11-20T07:00:00.000000000",
          "2022-11-20T08:00:00.000000000",
          "2022-11-20T09:00:00.000000000",
          "2022-11-20T10:00:00.000000000",
          "2022-11-20T11:00:00.000000000",
          "2022-11-20T12:00:00.000000000",
          "2022-11-20T13:00:00.000000000",
          "2022-11-20T14:00:00.000000000",
          "2022-11-20T15:00:00.000000000",
          "2022-11-20T16:00:00.000000000",
          "2022-11-20T17:00:00.000000000",
          "2022-11-20T18:00:00.000000000",
          "2022-11-20T19:00:00.000000000",
          "2022-11-20T20:00:00.000000000",
          "2022-11-20T21:00:00.000000000",
          "2022-11-20T22:00:00.000000000",
          "2022-11-20T23:00:00.000000000",
          "2022-11-21T00:00:00.000000000",
          "2022-11-21T01:00:00.000000000",
          "2022-11-21T02:00:00.000000000",
          "2022-11-21T03:00:00.000000000",
          "2022-11-21T04:00:00.000000000",
          "2022-11-21T05:00:00.000000000",
          "2022-11-21T06:00:00.000000000",
          "2022-11-21T07:00:00.000000000",
          "2022-11-21T08:00:00.000000000",
          "2022-11-21T09:00:00.000000000",
          "2022-11-21T10:00:00.000000000",
          "2022-11-21T11:00:00.000000000",
          "2022-11-21T12:00:00.000000000",
          "2022-11-21T13:00:00.000000000",
          "2022-11-21T14:00:00.000000000",
          "2022-11-21T15:00:00.000000000",
          "2022-11-21T16:00:00.000000000",
          "2022-11-21T17:00:00.000000000",
          "2022-11-21T18:00:00.000000000",
          "2022-11-21T19:00:00.000000000",
          "2022-11-21T20:00:00.000000000",
          "2022-11-21T21:00:00.000000000",
          "2022-11-21T22:00:00.000000000",
          "2022-11-21T23:00:00.000000000",
          "2022-11-22T00:00:00.000000000",
          "2022-11-22T01:00:00.000000000",
          "2022-11-22T02:00:00.000000000",
          "2022-11-22T03:00:00.000000000",
          "2022-11-22T04:00:00.000000000",
          "2022-11-22T05:00:00.000000000",
          "2022-11-22T06:00:00.000000000",
          "2022-11-22T07:00:00.000000000",
          "2022-11-22T08:00:00.000000000",
          "2022-11-22T09:00:00.000000000",
          "2022-11-22T10:00:00.000000000",
          "2022-11-22T11:00:00.000000000",
          "2022-11-22T12:00:00.000000000",
          "2022-11-22T13:00:00.000000000",
          "2022-11-22T14:00:00.000000000",
          "2022-11-22T15:00:00.000000000",
          "2022-11-22T16:00:00.000000000",
          "2022-11-22T17:00:00.000000000",
          "2022-11-22T18:00:00.000000000",
          "2022-11-22T19:00:00.000000000",
          "2022-11-22T20:00:00.000000000",
          "2022-11-22T21:00:00.000000000",
          "2022-11-22T22:00:00.000000000",
          "2022-11-22T23:00:00.000000000",
          "2022-11-23T00:00:00.000000000",
          "2022-11-23T01:00:00.000000000",
          "2022-11-23T02:00:00.000000000",
          "2022-11-23T03:00:00.000000000",
          "2022-11-23T04:00:00.000000000",
          "2022-11-23T05:00:00.000000000",
          "2022-11-23T06:00:00.000000000",
          "2022-11-23T07:00:00.000000000",
          "2022-11-23T08:00:00.000000000",
          "2022-11-23T09:00:00.000000000",
          "2022-11-23T10:00:00.000000000",
          "2022-11-23T11:00:00.000000000",
          "2022-11-23T12:00:00.000000000",
          "2022-11-23T13:00:00.000000000",
          "2022-11-23T14:00:00.000000000",
          "2022-11-23T15:00:00.000000000",
          "2022-11-23T16:00:00.000000000",
          "2022-11-23T17:00:00.000000000",
          "2022-11-23T18:00:00.000000000",
          "2022-11-23T19:00:00.000000000",
          "2022-11-23T20:00:00.000000000",
          "2022-11-23T21:00:00.000000000",
          "2022-11-23T22:00:00.000000000",
          "2022-11-23T23:00:00.000000000",
          "2022-11-24T00:00:00.000000000",
          "2022-11-24T01:00:00.000000000",
          "2022-11-24T02:00:00.000000000",
          "2022-11-24T03:00:00.000000000",
          "2022-11-24T04:00:00.000000000",
          "2022-11-24T05:00:00.000000000",
          "2022-11-24T06:00:00.000000000",
          "2022-11-24T07:00:00.000000000",
          "2022-11-24T08:00:00.000000000",
          "2022-11-24T09:00:00.000000000",
          "2022-11-24T10:00:00.000000000",
          "2022-11-24T11:00:00.000000000",
          "2022-11-24T12:00:00.000000000",
          "2022-11-24T13:00:00.000000000",
          "2022-11-24T14:00:00.000000000",
          "2022-11-24T15:00:00.000000000",
          "2022-11-24T16:00:00.000000000",
          "2022-11-24T17:00:00.000000000",
          "2022-11-24T18:00:00.000000000",
          "2022-11-24T19:00:00.000000000",
          "2022-11-24T20:00:00.000000000",
          "2022-11-24T21:00:00.000000000",
          "2022-11-24T22:00:00.000000000",
          "2022-11-24T23:00:00.000000000",
          "2022-11-25T00:00:00.000000000",
          "2022-11-25T01:00:00.000000000",
          "2022-11-25T02:00:00.000000000",
          "2022-11-25T03:00:00.000000000",
          "2022-11-25T04:00:00.000000000",
          "2022-11-25T05:00:00.000000000",
          "2022-11-25T06:00:00.000000000",
          "2022-11-25T07:00:00.000000000",
          "2022-11-25T08:00:00.000000000",
          "2022-11-25T09:00:00.000000000",
          "2022-11-25T10:00:00.000000000",
          "2022-11-25T11:00:00.000000000",
          "2022-11-25T12:00:00.000000000",
          "2022-11-25T13:00:00.000000000",
          "2022-11-25T14:00:00.000000000",
          "2022-11-25T15:00:00.000000000",
          "2022-11-25T16:00:00.000000000",
          "2022-11-25T17:00:00.000000000",
          "2022-11-25T18:00:00.000000000",
          "2022-11-25T19:00:00.000000000",
          "2022-11-25T20:00:00.000000000",
          "2022-11-25T21:00:00.000000000",
          "2022-11-25T22:00:00.000000000",
          "2022-11-25T23:00:00.000000000",
          "2022-11-26T00:00:00.000000000",
          "2022-11-26T01:00:00.000000000",
          "2022-11-26T02:00:00.000000000",
          "2022-11-26T03:00:00.000000000",
          "2022-11-26T04:00:00.000000000",
          "2022-11-26T05:00:00.000000000",
          "2022-11-26T06:00:00.000000000",
          "2022-11-26T07:00:00.000000000",
          "2022-11-26T08:00:00.000000000",
          "2022-11-26T09:00:00.000000000",
          "2022-11-26T10:00:00.000000000",
          "2022-11-26T11:00:00.000000000",
          "2022-11-26T12:00:00.000000000",
          "2022-11-26T13:00:00.000000000",
          "2022-11-26T14:00:00.000000000",
          "2022-11-26T15:00:00.000000000",
          "2022-11-26T16:00:00.000000000",
          "2022-11-26T17:00:00.000000000",
          "2022-11-26T18:00:00.000000000",
          "2022-11-26T19:00:00.000000000",
          "2022-11-26T20:00:00.000000000",
          "2022-11-26T21:00:00.000000000",
          "2022-11-26T22:00:00.000000000",
          "2022-11-26T23:00:00.000000000",
          "2022-11-27T00:00:00.000000000",
          "2022-11-27T01:00:00.000000000",
          "2022-11-27T02:00:00.000000000",
          "2022-11-27T03:00:00.000000000",
          "2022-11-27T04:00:00.000000000",
          "2022-11-27T05:00:00.000000000",
          "2022-11-27T06:00:00.000000000",
          "2022-11-27T07:00:00.000000000",
          "2022-11-27T08:00:00.000000000",
          "2022-11-27T09:00:00.000000000",
          "2022-11-27T10:00:00.000000000",
          "2022-11-27T11:00:00.000000000",
          "2022-11-27T12:00:00.000000000",
          "2022-11-27T13:00:00.000000000",
          "2022-11-27T14:00:00.000000000",
          "2022-11-27T15:00:00.000000000",
          "2022-11-27T16:00:00.000000000",
          "2022-11-27T17:00:00.000000000",
          "2022-11-27T18:00:00.000000000",
          "2022-11-27T19:00:00.000000000",
          "2022-11-27T20:00:00.000000000",
          "2022-11-27T21:00:00.000000000",
          "2022-11-27T22:00:00.000000000",
          "2022-11-27T23:00:00.000000000",
          "2022-11-28T00:00:00.000000000",
          "2022-11-28T01:00:00.000000000",
          "2022-11-28T02:00:00.000000000",
          "2022-11-28T03:00:00.000000000",
          "2022-11-28T04:00:00.000000000",
          "2022-11-28T05:00:00.000000000",
          "2022-11-28T06:00:00.000000000",
          "2022-11-28T07:00:00.000000000",
          "2022-11-28T08:00:00.000000000",
          "2022-11-28T09:00:00.000000000",
          "2022-11-28T10:00:00.000000000",
          "2022-11-28T11:00:00.000000000",
          "2022-11-28T12:00:00.000000000",
          "2022-11-28T13:00:00.000000000",
          "2022-11-28T14:00:00.000000000",
          "2022-11-28T15:00:00.000000000",
          "2022-11-28T16:00:00.000000000",
          "2022-11-28T17:00:00.000000000",
          "2022-11-28T18:00:00.000000000",
          "2022-11-28T19:00:00.000000000",
          "2022-11-28T20:00:00.000000000",
          "2022-11-28T21:00:00.000000000",
          "2022-11-28T22:00:00.000000000",
          "2022-11-28T23:00:00.000000000",
          "2022-11-29T00:00:00.000000000",
          "2022-11-29T01:00:00.000000000",
          "2022-11-29T02:00:00.000000000",
          "2022-11-29T03:00:00.000000000",
          "2022-11-29T04:00:00.000000000",
          "2022-11-29T05:00:00.000000000",
          "2022-11-29T06:00:00.000000000",
          "2022-11-29T07:00:00.000000000",
          "2022-11-29T08:00:00.000000000",
          "2022-11-29T09:00:00.000000000",
          "2022-11-29T10:00:00.000000000",
          "2022-11-29T11:00:00.000000000",
          "2022-11-29T12:00:00.000000000",
          "2022-11-29T13:00:00.000000000",
          "2022-11-29T14:00:00.000000000",
          "2022-11-29T15:00:00.000000000",
          "2022-11-29T16:00:00.000000000",
          "2022-11-29T17:00:00.000000000",
          "2022-11-29T18:00:00.000000000",
          "2022-11-29T19:00:00.000000000",
          "2022-11-29T20:00:00.000000000",
          "2022-11-29T21:00:00.000000000",
          "2022-11-29T22:00:00.000000000",
          "2022-11-29T23:00:00.000000000",
          "2022-11-30T00:00:00.000000000",
          "2022-11-30T01:00:00.000000000",
          "2022-11-30T02:00:00.000000000",
          "2022-11-30T03:00:00.000000000",
          "2022-11-30T04:00:00.000000000",
          "2022-11-30T05:00:00.000000000",
          "2022-11-30T06:00:00.000000000",
          "2022-11-30T07:00:00.000000000",
          "2022-11-30T08:00:00.000000000",
          "2022-11-30T09:00:00.000000000",
          "2022-11-30T10:00:00.000000000",
          "2022-11-30T11:00:00.000000000",
          "2022-11-30T12:00:00.000000000",
          "2022-11-30T13:00:00.000000000",
          "2022-11-30T14:00:00.000000000",
          "2022-11-30T15:00:00.000000000",
          "2022-11-30T16:00:00.000000000",
          "2022-11-30T17:00:00.000000000",
          "2022-11-30T18:00:00.000000000",
          "2022-11-30T19:00:00.000000000",
          "2022-11-30T20:00:00.000000000",
          "2022-11-30T21:00:00.000000000",
          "2022-11-30T22:00:00.000000000",
          "2022-11-30T23:00:00.000000000",
          "2022-12-01T00:00:00.000000000",
          "2022-12-01T01:00:00.000000000",
          "2022-12-01T02:00:00.000000000",
          "2022-12-01T03:00:00.000000000",
          "2022-12-01T04:00:00.000000000",
          "2022-12-01T05:00:00.000000000",
          "2022-12-01T06:00:00.000000000",
          "2022-12-01T07:00:00.000000000",
          "2022-12-01T08:00:00.000000000",
          "2022-12-01T09:00:00.000000000",
          "2022-12-01T10:00:00.000000000",
          "2022-12-01T11:00:00.000000000",
          "2022-12-01T12:00:00.000000000",
          "2022-12-01T13:00:00.000000000",
          "2022-12-01T14:00:00.000000000",
          "2022-12-01T15:00:00.000000000",
          "2022-12-01T16:00:00.000000000",
          "2022-12-01T17:00:00.000000000",
          "2022-12-01T18:00:00.000000000",
          "2022-12-01T19:00:00.000000000",
          "2022-12-01T20:00:00.000000000",
          "2022-12-01T21:00:00.000000000",
          "2022-12-01T22:00:00.000000000",
          "2022-12-01T23:00:00.000000000",
          "2022-12-02T00:00:00.000000000",
          "2022-12-02T01:00:00.000000000",
          "2022-12-02T02:00:00.000000000",
          "2022-12-02T03:00:00.000000000",
          "2022-12-02T04:00:00.000000000",
          "2022-12-02T05:00:00.000000000",
          "2022-12-02T06:00:00.000000000",
          "2022-12-02T07:00:00.000000000",
          "2022-12-02T08:00:00.000000000",
          "2022-12-02T09:00:00.000000000",
          "2022-12-02T10:00:00.000000000",
          "2022-12-02T11:00:00.000000000",
          "2022-12-02T12:00:00.000000000",
          "2022-12-02T13:00:00.000000000",
          "2022-12-02T14:00:00.000000000",
          "2022-12-02T15:00:00.000000000",
          "2022-12-02T16:00:00.000000000",
          "2022-12-02T17:00:00.000000000",
          "2022-12-02T18:00:00.000000000",
          "2022-12-02T19:00:00.000000000",
          "2022-12-02T20:00:00.000000000",
          "2022-12-02T21:00:00.000000000",
          "2022-12-02T22:00:00.000000000",
          "2022-12-02T23:00:00.000000000",
          "2022-12-03T00:00:00.000000000",
          "2022-12-03T01:00:00.000000000",
          "2022-12-03T02:00:00.000000000",
          "2022-12-03T03:00:00.000000000",
          "2022-12-03T04:00:00.000000000",
          "2022-12-03T05:00:00.000000000",
          "2022-12-03T06:00:00.000000000",
          "2022-12-03T07:00:00.000000000",
          "2022-12-03T08:00:00.000000000",
          "2022-12-03T09:00:00.000000000",
          "2022-12-03T10:00:00.000000000",
          "2022-12-03T11:00:00.000000000",
          "2022-12-03T12:00:00.000000000",
          "2022-12-03T13:00:00.000000000",
          "2022-12-03T14:00:00.000000000",
          "2022-12-03T15:00:00.000000000",
          "2022-12-03T16:00:00.000000000",
          "2022-12-03T17:00:00.000000000",
          "2022-12-03T18:00:00.000000000",
          "2022-12-03T19:00:00.000000000",
          "2022-12-03T20:00:00.000000000",
          "2022-12-03T21:00:00.000000000",
          "2022-12-03T22:00:00.000000000",
          "2022-12-03T23:00:00.000000000",
          "2022-12-04T00:00:00.000000000",
          "2022-12-04T01:00:00.000000000",
          "2022-12-04T02:00:00.000000000",
          "2022-12-04T03:00:00.000000000",
          "2022-12-04T04:00:00.000000000",
          "2022-12-04T05:00:00.000000000",
          "2022-12-04T06:00:00.000000000",
          "2022-12-04T07:00:00.000000000",
          "2022-12-04T08:00:00.000000000",
          "2022-12-04T09:00:00.000000000",
          "2022-12-04T10:00:00.000000000",
          "2022-12-04T11:00:00.000000000",
          "2022-12-04T12:00:00.000000000",
          "2022-12-04T13:00:00.000000000",
          "2022-12-04T14:00:00.000000000",
          "2022-12-04T15:00:00.000000000",
          "2022-12-04T16:00:00.000000000",
          "2022-12-04T17:00:00.000000000",
          "2022-12-04T18:00:00.000000000",
          "2022-12-04T19:00:00.000000000",
          "2022-12-04T20:00:00.000000000",
          "2022-12-04T21:00:00.000000000",
          "2022-12-04T22:00:00.000000000",
          "2022-12-04T23:00:00.000000000",
          "2022-12-05T00:00:00.000000000",
          "2022-12-05T01:00:00.000000000",
          "2022-12-05T02:00:00.000000000",
          "2022-12-05T03:00:00.000000000",
          "2022-12-05T04:00:00.000000000",
          "2022-12-05T05:00:00.000000000",
          "2022-12-05T06:00:00.000000000",
          "2022-12-05T07:00:00.000000000",
          "2022-12-05T08:00:00.000000000",
          "2022-12-05T09:00:00.000000000",
          "2022-12-05T10:00:00.000000000",
          "2022-12-05T11:00:00.000000000",
          "2022-12-05T12:00:00.000000000",
          "2022-12-05T13:00:00.000000000",
          "2022-12-05T14:00:00.000000000",
          "2022-12-05T15:00:00.000000000",
          "2022-12-05T16:00:00.000000000",
          "2022-12-05T17:00:00.000000000",
          "2022-12-05T18:00:00.000000000",
          "2022-12-05T19:00:00.000000000",
          "2022-12-05T20:00:00.000000000",
          "2022-12-05T21:00:00.000000000",
          "2022-12-05T22:00:00.000000000",
          "2022-12-05T23:00:00.000000000",
          "2022-12-06T00:00:00.000000000",
          "2022-12-06T01:00:00.000000000",
          "2022-12-06T02:00:00.000000000",
          "2022-12-06T03:00:00.000000000",
          "2022-12-06T04:00:00.000000000",
          "2022-12-06T05:00:00.000000000",
          "2022-12-06T06:00:00.000000000",
          "2022-12-06T07:00:00.000000000",
          "2022-12-06T08:00:00.000000000",
          "2022-12-06T09:00:00.000000000",
          "2022-12-06T10:00:00.000000000",
          "2022-12-06T11:00:00.000000000",
          "2022-12-06T12:00:00.000000000",
          "2022-12-06T13:00:00.000000000",
          "2022-12-06T14:00:00.000000000",
          "2022-12-06T15:00:00.000000000",
          "2022-12-06T16:00:00.000000000",
          "2022-12-06T17:00:00.000000000",
          "2022-12-06T18:00:00.000000000",
          "2022-12-06T19:00:00.000000000",
          "2022-12-06T20:00:00.000000000",
          "2022-12-06T21:00:00.000000000",
          "2022-12-06T22:00:00.000000000",
          "2022-12-06T23:00:00.000000000",
          "2022-12-07T00:00:00.000000000",
          "2022-12-07T01:00:00.000000000",
          "2022-12-07T02:00:00.000000000",
          "2022-12-07T03:00:00.000000000",
          "2022-12-07T04:00:00.000000000",
          "2022-12-07T05:00:00.000000000",
          "2022-12-07T06:00:00.000000000",
          "2022-12-07T07:00:00.000000000",
          "2022-12-07T08:00:00.000000000",
          "2022-12-07T09:00:00.000000000",
          "2022-12-07T10:00:00.000000000",
          "2022-12-07T11:00:00.000000000",
          "2022-12-07T12:00:00.000000000",
          "2022-12-07T13:00:00.000000000",
          "2022-12-07T14:00:00.000000000",
          "2022-12-07T15:00:00.000000000",
          "2022-12-07T16:00:00.000000000",
          "2022-12-07T17:00:00.000000000",
          "2022-12-07T18:00:00.000000000",
          "2022-12-07T19:00:00.000000000",
          "2022-12-07T20:00:00.000000000",
          "2022-12-07T21:00:00.000000000",
          "2022-12-07T22:00:00.000000000",
          "2022-12-07T23:00:00.000000000",
          "2022-12-08T00:00:00.000000000",
          "2022-12-08T01:00:00.000000000",
          "2022-12-08T02:00:00.000000000",
          "2022-12-08T03:00:00.000000000",
          "2022-12-08T04:00:00.000000000",
          "2022-12-08T05:00:00.000000000",
          "2022-12-08T06:00:00.000000000",
          "2022-12-08T07:00:00.000000000",
          "2022-12-08T08:00:00.000000000",
          "2022-12-08T09:00:00.000000000",
          "2022-12-08T10:00:00.000000000",
          "2022-12-08T11:00:00.000000000",
          "2022-12-08T12:00:00.000000000",
          "2022-12-08T13:00:00.000000000",
          "2022-12-08T14:00:00.000000000",
          "2022-12-08T15:00:00.000000000",
          "2022-12-08T16:00:00.000000000",
          "2022-12-08T17:00:00.000000000",
          "2022-12-08T18:00:00.000000000",
          "2022-12-08T19:00:00.000000000",
          "2022-12-08T20:00:00.000000000",
          "2022-12-08T21:00:00.000000000",
          "2022-12-08T22:00:00.000000000",
          "2022-12-08T23:00:00.000000000",
          "2022-12-09T00:00:00.000000000",
          "2022-12-09T01:00:00.000000000",
          "2022-12-09T02:00:00.000000000",
          "2022-12-09T03:00:00.000000000",
          "2022-12-09T04:00:00.000000000",
          "2022-12-09T05:00:00.000000000",
          "2022-12-09T06:00:00.000000000",
          "2022-12-09T07:00:00.000000000",
          "2022-12-09T08:00:00.000000000",
          "2022-12-09T09:00:00.000000000",
          "2022-12-09T10:00:00.000000000",
          "2022-12-09T11:00:00.000000000",
          "2022-12-09T12:00:00.000000000",
          "2022-12-09T13:00:00.000000000",
          "2022-12-09T14:00:00.000000000",
          "2022-12-09T15:00:00.000000000",
          "2022-12-09T16:00:00.000000000",
          "2022-12-09T17:00:00.000000000",
          "2022-12-09T18:00:00.000000000",
          "2022-12-09T19:00:00.000000000",
          "2022-12-09T20:00:00.000000000",
          "2022-12-09T21:00:00.000000000",
          "2022-12-09T22:00:00.000000000",
          "2022-12-09T23:00:00.000000000",
          "2022-12-10T00:00:00.000000000",
          "2022-12-10T01:00:00.000000000",
          "2022-12-10T02:00:00.000000000",
          "2022-12-10T03:00:00.000000000",
          "2022-12-10T04:00:00.000000000",
          "2022-12-10T05:00:00.000000000",
          "2022-12-10T06:00:00.000000000",
          "2022-12-10T07:00:00.000000000",
          "2022-12-10T08:00:00.000000000",
          "2022-12-10T09:00:00.000000000",
          "2022-12-10T10:00:00.000000000",
          "2022-12-10T11:00:00.000000000",
          "2022-12-10T12:00:00.000000000",
          "2022-12-10T13:00:00.000000000",
          "2022-12-10T14:00:00.000000000",
          "2022-12-10T15:00:00.000000000",
          "2022-12-10T16:00:00.000000000",
          "2022-12-10T17:00:00.000000000",
          "2022-12-10T18:00:00.000000000",
          "2022-12-10T19:00:00.000000000",
          "2022-12-10T20:00:00.000000000",
          "2022-12-10T21:00:00.000000000",
          "2022-12-10T22:00:00.000000000",
          "2022-12-10T23:00:00.000000000",
          "2022-12-11T00:00:00.000000000",
          "2022-12-11T01:00:00.000000000",
          "2022-12-11T02:00:00.000000000",
          "2022-12-11T03:00:00.000000000",
          "2022-12-11T04:00:00.000000000",
          "2022-12-11T05:00:00.000000000",
          "2022-12-11T06:00:00.000000000",
          "2022-12-11T07:00:00.000000000",
          "2022-12-11T08:00:00.000000000",
          "2022-12-11T09:00:00.000000000",
          "2022-12-11T10:00:00.000000000",
          "2022-12-11T11:00:00.000000000",
          "2022-12-11T12:00:00.000000000",
          "2022-12-11T13:00:00.000000000",
          "2022-12-11T14:00:00.000000000",
          "2022-12-11T15:00:00.000000000",
          "2022-12-11T16:00:00.000000000",
          "2022-12-11T17:00:00.000000000",
          "2022-12-11T18:00:00.000000000",
          "2022-12-11T19:00:00.000000000",
          "2022-12-11T20:00:00.000000000",
          "2022-12-11T21:00:00.000000000",
          "2022-12-11T22:00:00.000000000",
          "2022-12-11T23:00:00.000000000",
          "2022-12-12T00:00:00.000000000",
          "2022-12-12T01:00:00.000000000",
          "2022-12-12T02:00:00.000000000",
          "2022-12-12T03:00:00.000000000",
          "2022-12-12T04:00:00.000000000",
          "2022-12-12T05:00:00.000000000",
          "2022-12-12T06:00:00.000000000",
          "2022-12-12T07:00:00.000000000",
          "2022-12-12T08:00:00.000000000",
          "2022-12-12T09:00:00.000000000",
          "2022-12-12T10:00:00.000000000",
          "2022-12-12T11:00:00.000000000",
          "2022-12-12T12:00:00.000000000",
          "2022-12-12T13:00:00.000000000",
          "2022-12-12T14:00:00.000000000",
          "2022-12-12T15:00:00.000000000",
          "2022-12-12T16:00:00.000000000",
          "2022-12-12T17:00:00.000000000",
          "2022-12-12T18:00:00.000000000",
          "2022-12-12T19:00:00.000000000",
          "2022-12-12T20:00:00.000000000",
          "2022-12-12T21:00:00.000000000",
          "2022-12-12T22:00:00.000000000",
          "2022-12-12T23:00:00.000000000",
          "2022-12-13T00:00:00.000000000",
          "2022-12-13T01:00:00.000000000",
          "2022-12-13T02:00:00.000000000",
          "2022-12-13T03:00:00.000000000",
          "2022-12-13T04:00:00.000000000",
          "2022-12-13T05:00:00.000000000",
          "2022-12-13T06:00:00.000000000",
          "2022-12-13T07:00:00.000000000",
          "2022-12-13T08:00:00.000000000",
          "2022-12-13T09:00:00.000000000",
          "2022-12-13T10:00:00.000000000",
          "2022-12-13T11:00:00.000000000",
          "2022-12-13T12:00:00.000000000",
          "2022-12-13T13:00:00.000000000",
          "2022-12-13T14:00:00.000000000",
          "2022-12-13T15:00:00.000000000",
          "2022-12-13T16:00:00.000000000",
          "2022-12-13T17:00:00.000000000",
          "2022-12-13T18:00:00.000000000",
          "2022-12-13T19:00:00.000000000",
          "2022-12-13T20:00:00.000000000",
          "2022-12-13T21:00:00.000000000",
          "2022-12-13T22:00:00.000000000",
          "2022-12-13T23:00:00.000000000",
          "2022-12-14T00:00:00.000000000",
          "2022-12-14T01:00:00.000000000",
          "2022-12-14T02:00:00.000000000",
          "2022-12-14T03:00:00.000000000",
          "2022-12-14T04:00:00.000000000",
          "2022-12-14T05:00:00.000000000",
          "2022-12-14T06:00:00.000000000",
          "2022-12-14T07:00:00.000000000",
          "2022-12-14T08:00:00.000000000",
          "2022-12-14T09:00:00.000000000",
          "2022-12-14T10:00:00.000000000",
          "2022-12-14T11:00:00.000000000",
          "2022-12-14T12:00:00.000000000",
          "2022-12-14T13:00:00.000000000",
          "2022-12-14T14:00:00.000000000",
          "2022-12-14T15:00:00.000000000",
          "2022-12-14T16:00:00.000000000",
          "2022-12-14T17:00:00.000000000",
          "2022-12-14T18:00:00.000000000",
          "2022-12-14T19:00:00.000000000",
          "2022-12-14T20:00:00.000000000",
          "2022-12-14T21:00:00.000000000",
          "2022-12-14T22:00:00.000000000",
          "2022-12-14T23:00:00.000000000",
          "2022-12-15T00:00:00.000000000"
         ],
         "xaxis": "x",
         "y": {
          "bdata": "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",
          "dtype": "f4"
         },
         "yaxis": "y"
        },
        {
         "line": {
          "color": "green"
         },
         "marker": {
          "size": 10
         },
         "mode": "markers",
         "name": "actual value",
         "type": "scatter",
         "x": [
          "2022-12-15T00:00:00.000000000"
         ],
         "y": [
          2
         ]
        },
        {
         "line": {
          "color": "red"
         },
         "marker": {
          "size": 15,
          "symbol": "x"
         },
         "mode": "markers",
         "name": "prediction",
         "type": "scatter",
         "x": [
          "2022-12-15T00:00:00.000000000"
         ],
         "y": [
          0.27163094251834474
         ]
        }
       ],
       "layout": {
        "legend": {
         "tracegroupgap": 0
        },
        "template": {
         "data": {
          "bar": [
           {
            "error_x": {
             "color": "#f2f5fa"
            },
            "error_y": {
             "color": "#f2f5fa"
            },
            "marker": {
             "line": {
              "color": "rgb(17,17,17)",
              "width": 0.5
             },
             "pattern": {
              "fillmode": "overlay",
              "size": 10,
              "solidity": 0.2
             }
            },
            "type": "bar"
           }
          ],
          "barpolar": [
           {
            "marker": {
             "line": {
              "color": "rgb(17,17,17)",
              "width": 0.5
             },
             "pattern": {
              "fillmode": "overlay",
              "size": 10,
              "solidity": 0.2
             }
            },
            "type": "barpolar"
           }
          ],
          "carpet": [
           {
            "aaxis": {
             "endlinecolor": "#A2B1C6",
             "gridcolor": "#506784",
             "linecolor": "#506784",
             "minorgridcolor": "#506784",
             "startlinecolor": "#A2B1C6"
            },
            "baxis": {
             "endlinecolor": "#A2B1C6",
             "gridcolor": "#506784",
             "linecolor": "#506784",
             "minorgridcolor": "#506784",
             "startlinecolor": "#A2B1C6"
            },
            "type": "carpet"
           }
          ],
          "choropleth": [
           {
            "colorbar": {
             "outlinewidth": 0,
             "ticks": ""
            },
            "type": "choropleth"
           }
          ],
          "contour": [
           {
            "colorbar": {
             "outlinewidth": 0,
             "ticks": ""
            },
            "colorscale": [
             [
              0,
              "#0d0887"
             ],
             [
              0.1111111111111111,
              "#46039f"
             ],
             [
              0.2222222222222222,
              "#7201a8"
             ],
             [
              0.3333333333333333,
              "#9c179e"
             ],
             [
              0.4444444444444444,
              "#bd3786"
             ],
             [
              0.5555555555555556,
              "#d8576b"
             ],
             [
              0.6666666666666666,
              "#ed7953"
             ],
             [
              0.7777777777777778,
              "#fb9f3a"
             ],
             [
              0.8888888888888888,
              "#fdca26"
             ],
             [
              1,
              "#f0f921"
             ]
            ],
            "type": "contour"
           }
          ],
          "contourcarpet": [
           {
            "colorbar": {
             "outlinewidth": 0,
             "ticks": ""
            },
            "type": "contourcarpet"
           }
          ],
          "heatmap": [
           {
            "colorbar": {
             "outlinewidth": 0,
             "ticks": ""
            },
            "colorscale": [
             [
              0,
              "#0d0887"
             ],
             [
              0.1111111111111111,
              "#46039f"
             ],
             [
              0.2222222222222222,
              "#7201a8"
             ],
             [
              0.3333333333333333,
              "#9c179e"
             ],
             [
              0.4444444444444444,
              "#bd3786"
             ],
             [
              0.5555555555555556,
              "#d8576b"
             ],
             [
              0.6666666666666666,
              "#ed7953"
             ],
             [
              0.7777777777777778,
              "#fb9f3a"
             ],
             [
              0.8888888888888888,
              "#fdca26"
             ],
             [
              1,
              "#f0f921"
             ]
            ],
            "type": "heatmap"
           }
          ],
          "histogram": [
           {
            "marker": {
             "pattern": {
              "fillmode": "overlay",
              "size": 10,
              "solidity": 0.2
             }
            },
            "type": "histogram"
           }
          ],
          "histogram2d": [
           {
            "colorbar": {
             "outlinewidth": 0,
             "ticks": ""
            },
            "colorscale": [
             [
              0,
              "#0d0887"
             ],
             [
              0.1111111111111111,
              "#46039f"
             ],
             [
              0.2222222222222222,
              "#7201a8"
             ],
             [
              0.3333333333333333,
              "#9c179e"
             ],
             [
              0.4444444444444444,
              "#bd3786"
             ],
             [
              0.5555555555555556,
              "#d8576b"
             ],
             [
              0.6666666666666666,
              "#ed7953"
             ],
             [
              0.7777777777777778,
              "#fb9f3a"
             ],
             [
              0.8888888888888888,
              "#fdca26"
             ],
             [
              1,
              "#f0f921"
             ]
            ],
            "type": "histogram2d"
           }
          ],
          "histogram2dcontour": [
           {
            "colorbar": {
             "outlinewidth": 0,
             "ticks": ""
            },
            "colorscale": [
             [
              0,
              "#0d0887"
             ],
             [
              0.1111111111111111,
              "#46039f"
             ],
             [
              0.2222222222222222,
              "#7201a8"
             ],
             [
              0.3333333333333333,
              "#9c179e"
             ],
             [
              0.4444444444444444,
              "#bd3786"
             ],
             [
              0.5555555555555556,
              "#d8576b"
             ],
             [
              0.6666666666666666,
              "#ed7953"
             ],
             [
              0.7777777777777778,
              "#fb9f3a"
             ],
             [
              0.8888888888888888,
              "#fdca26"
             ],
             [
              1,
              "#f0f921"
             ]
            ],
            "type": "histogram2dcontour"
           }
          ],
          "mesh3d": [
           {
            "colorbar": {
             "outlinewidth": 0,
             "ticks": ""
            },
            "type": "mesh3d"
           }
          ],
          "parcoords": [
           {
            "line": {
             "colorbar": {
              "outlinewidth": 0,
              "ticks": ""
             }
            },
            "type": "parcoords"
           }
          ],
          "pie": [
           {
            "automargin": true,
            "type": "pie"
           }
          ],
          "scatter": [
           {
            "marker": {
             "line": {
              "color": "#283442"
             }
            },
            "type": "scatter"
           }
          ],
          "scatter3d": [
           {
            "line": {
             "colorbar": {
              "outlinewidth": 0,
              "ticks": ""
             }
            },
            "marker": {
             "colorbar": {
              "outlinewidth": 0,
              "ticks": ""
             }
            },
            "type": "scatter3d"
           }
          ],
          "scattercarpet": [
           {
            "marker": {
             "colorbar": {
              "outlinewidth": 0,
              "ticks": ""
             }
            },
            "type": "scattercarpet"
           }
          ],
          "scattergeo": [
           {
            "marker": {
             "colorbar": {
              "outlinewidth": 0,
              "ticks": ""
             }
            },
            "type": "scattergeo"
           }
          ],
          "scattergl": [
           {
            "marker": {
             "line": {
              "color": "#283442"
             }
            },
            "type": "scattergl"
           }
          ],
          "scattermap": [
           {
            "marker": {
             "colorbar": {
              "outlinewidth": 0,
              "ticks": ""
             }
            },
            "type": "scattermap"
           }
          ],
          "scattermapbox": [
           {
            "marker": {
             "colorbar": {
              "outlinewidth": 0,
              "ticks": ""
             }
            },
            "type": "scattermapbox"
           }
          ],
          "scatterpolar": [
           {
            "marker": {
             "colorbar": {
              "outlinewidth": 0,
              "ticks": ""
             }
            },
            "type": "scatterpolar"
           }
          ],
          "scatterpolargl": [
           {
            "marker": {
             "colorbar": {
              "outlinewidth": 0,
              "ticks": ""
             }
            },
            "type": "scatterpolargl"
           }
          ],
          "scatterternary": [
           {
            "marker": {
             "colorbar": {
              "outlinewidth": 0,
              "ticks": ""
             }
            },
            "type": "scatterternary"
           }
          ],
          "surface": [
           {
            "colorbar": {
             "outlinewidth": 0,
             "ticks": ""
            },
            "colorscale": [
             [
              0,
              "#0d0887"
             ],
             [
              0.1111111111111111,
              "#46039f"
             ],
             [
              0.2222222222222222,
              "#7201a8"
             ],
             [
              0.3333333333333333,
              "#9c179e"
             ],
             [
              0.4444444444444444,
              "#bd3786"
             ],
             [
              0.5555555555555556,
              "#d8576b"
             ],
             [
              0.6666666666666666,
              "#ed7953"
             ],
             [
              0.7777777777777778,
              "#fb9f3a"
             ],
             [
              0.8888888888888888,
              "#fdca26"
             ],
             [
              1,
              "#f0f921"
             ]
            ],
            "type": "surface"
           }
          ],
          "table": [
           {
            "cells": {
             "fill": {
              "color": "#506784"
             },
             "line": {
              "color": "rgb(17,17,17)"
             }
            },
            "header": {
             "fill": {
              "color": "#2a3f5f"
             },
             "line": {
              "color": "rgb(17,17,17)"
             }
            },
            "type": "table"
           }
          ]
         },
         "layout": {
          "annotationdefaults": {
           "arrowcolor": "#f2f5fa",
           "arrowhead": 0,
           "arrowwidth": 1
          },
          "autotypenumbers": "strict",
          "coloraxis": {
           "colorbar": {
            "outlinewidth": 0,
            "ticks": ""
           }
          },
          "colorscale": {
           "diverging": [
            [
             0,
             "#8e0152"
            ],
            [
             0.1,
             "#c51b7d"
            ],
            [
             0.2,
             "#de77ae"
            ],
            [
             0.3,
             "#f1b6da"
            ],
            [
             0.4,
             "#fde0ef"
            ],
            [
             0.5,
             "#f7f7f7"
            ],
            [
             0.6,
             "#e6f5d0"
            ],
            [
             0.7,
             "#b8e186"
            ],
            [
             0.8,
             "#7fbc41"
            ],
            [
             0.9,
             "#4d9221"
            ],
            [
             1,
             "#276419"
            ]
           ],
           "sequential": [
            [
             0,
             "#0d0887"
            ],
            [
             0.1111111111111111,
             "#46039f"
            ],
            [
             0.2222222222222222,
             "#7201a8"
            ],
            [
             0.3333333333333333,
             "#9c179e"
            ],
            [
             0.4444444444444444,
             "#bd3786"
            ],
            [
             0.5555555555555556,
             "#d8576b"
            ],
            [
             0.6666666666666666,
             "#ed7953"
            ],
            [
             0.7777777777777778,
             "#fb9f3a"
            ],
            [
             0.8888888888888888,
             "#fdca26"
            ],
            [
             1,
             "#f0f921"
            ]
           ],
           "sequentialminus": [
            [
             0,
             "#0d0887"
            ],
            [
             0.1111111111111111,
             "#46039f"
            ],
            [
             0.2222222222222222,
             "#7201a8"
            ],
            [
             0.3333333333333333,
             "#9c179e"
            ],
            [
             0.4444444444444444,
             "#bd3786"
            ],
            [
             0.5555555555555556,
             "#d8576b"
            ],
            [
             0.6666666666666666,
             "#ed7953"
            ],
            [
             0.7777777777777778,
             "#fb9f3a"
            ],
            [
             0.8888888888888888,
             "#fdca26"
            ],
            [
             1,
             "#f0f921"
            ]
           ]
          },
          "colorway": [
           "#636efa",
           "#EF553B",
           "#00cc96",
           "#ab63fa",
           "#FFA15A",
           "#19d3f3",
           "#FF6692",
           "#B6E880",
           "#FF97FF",
           "#FECB52"
          ],
          "font": {
           "color": "#f2f5fa"
          },
          "geo": {
           "bgcolor": "rgb(17,17,17)",
           "lakecolor": "rgb(17,17,17)",
           "landcolor": "rgb(17,17,17)",
           "showlakes": true,
           "showland": true,
           "subunitcolor": "#506784"
          },
          "hoverlabel": {
           "align": "left"
          },
          "hovermode": "closest",
          "mapbox": {
           "style": "dark"
          },
          "paper_bgcolor": "rgb(17,17,17)",
          "plot_bgcolor": "rgb(17,17,17)",
          "polar": {
           "angularaxis": {
            "gridcolor": "#506784",
            "linecolor": "#506784",
            "ticks": ""
           },
           "bgcolor": "rgb(17,17,17)",
           "radialaxis": {
            "gridcolor": "#506784",
            "linecolor": "#506784",
            "ticks": ""
           }
          },
          "scene": {
           "xaxis": {
            "backgroundcolor": "rgb(17,17,17)",
            "gridcolor": "#506784",
            "gridwidth": 2,
            "linecolor": "#506784",
            "showbackground": true,
            "ticks": "",
            "zerolinecolor": "#C8D4E3"
           },
           "yaxis": {
            "backgroundcolor": "rgb(17,17,17)",
            "gridcolor": "#506784",
            "gridwidth": 2,
            "linecolor": "#506784",
            "showbackground": true,
            "ticks": "",
            "zerolinecolor": "#C8D4E3"
           },
           "zaxis": {
            "backgroundcolor": "rgb(17,17,17)",
            "gridcolor": "#506784",
            "gridwidth": 2,
            "linecolor": "#506784",
            "showbackground": true,
            "ticks": "",
            "zerolinecolor": "#C8D4E3"
           }
          },
          "shapedefaults": {
           "line": {
            "color": "#f2f5fa"
           }
          },
          "sliderdefaults": {
           "bgcolor": "#C8D4E3",
           "bordercolor": "rgb(17,17,17)",
           "borderwidth": 1,
           "tickwidth": 0
          },
          "ternary": {
           "aaxis": {
            "gridcolor": "#506784",
            "linecolor": "#506784",
            "ticks": ""
           },
           "baxis": {
            "gridcolor": "#506784",
            "linecolor": "#506784",
            "ticks": ""
           },
           "bgcolor": "rgb(17,17,17)",
           "caxis": {
            "gridcolor": "#506784",
            "linecolor": "#506784",
            "ticks": ""
           }
          },
          "title": {
           "x": 0.05
          },
          "updatemenudefaults": {
           "bgcolor": "#506784",
           "borderwidth": 0
          },
          "xaxis": {
           "automargin": true,
           "gridcolor": "#283442",
           "linecolor": "#506784",
           "ticks": "",
           "title": {
            "standoff": 15
           },
           "zerolinecolor": "#283442",
           "zerolinewidth": 2
          },
          "yaxis": {
           "automargin": true,
           "gridcolor": "#283442",
           "linecolor": "#506784",
           "ticks": "",
           "title": {
            "standoff": 15
           },
           "zerolinecolor": "#283442",
           "zerolinewidth": 2
          }
         }
        },
        "title": {
         "text": "Pick up hour=2022-12-15 00:00:00, location_id=14"
        },
        "xaxis": {
         "anchor": "y",
         "domain": [
          0,
          1
         ],
         "title": {
          "text": "x"
         }
        },
        "yaxis": {
         "anchor": "x",
         "domain": [
          0,
          1
         ],
         "title": {
          "text": "y"
         }
        }
       }
      }
     },
     "metadata": {},
     "output_type": "display_data"
    }
   ],
   "source": [
    "from src.plot import plot_one_sample\n",
    "\n",
    "plot_one_sample(\n",
    "    example_id=2979,\n",
    "    features=X_test,\n",
    "    targets=y_test,\n",
    "    predictions=pd.Series(predictions)\n",
    ")"
   ]
  },
  {
   "cell_type": "code",
   "execution_count": 12,
   "id": "331805f9",
   "metadata": {},
   "outputs": [
    {
     "name": "stderr",
     "output_type": "stream",
     "text": [
      "/home/talha-naeem/Documents/LLM Work/taxi_demand/src/plot.py:24: FutureWarning:\n",
      "\n",
      "'H' is deprecated and will be removed in a future version, please use 'h' instead.\n",
      "\n"
     ]
    },
    {
     "data": {
      "application/vnd.plotly.v1+json": {
       "config": {
        "plotlyServerURL": "https://plot.ly"
       },
       "data": [
        {
         "hovertemplate": "x=%{x}<br>y=%{y}<extra></extra>",
         "legendgroup": "",
         "line": {
          "color": "#636efa",
          "dash": "solid"
         },
         "marker": {
          "symbol": "circle"
         },
         "mode": "lines+markers",
         "name": "",
         "orientation": "v",
         "showlegend": false,
         "type": "scatter",
         "x": [
          "2022-05-20T00:00:00.000000000",
          "2022-05-20T01:00:00.000000000",
          "2022-05-20T02:00:00.000000000",
          "2022-05-20T03:00:00.000000000",
          "2022-05-20T04:00:00.000000000",
          "2022-05-20T05:00:00.000000000",
          "2022-05-20T06:00:00.000000000",
          "2022-05-20T07:00:00.000000000",
          "2022-05-20T08:00:00.000000000",
          "2022-05-20T09:00:00.000000000",
          "2022-05-20T10:00:00.000000000",
          "2022-05-20T11:00:00.000000000",
          "2022-05-20T12:00:00.000000000",
          "2022-05-20T13:00:00.000000000",
          "2022-05-20T14:00:00.000000000",
          "2022-05-20T15:00:00.000000000",
          "2022-05-20T16:00:00.000000000",
          "2022-05-20T17:00:00.000000000",
          "2022-05-20T18:00:00.000000000",
          "2022-05-20T19:00:00.000000000",
          "2022-05-20T20:00:00.000000000",
          "2022-05-20T21:00:00.000000000",
          "2022-05-20T22:00:00.000000000",
          "2022-05-20T23:00:00.000000000",
          "2022-05-21T00:00:00.000000000",
          "2022-05-21T01:00:00.000000000",
          "2022-05-21T02:00:00.000000000",
          "2022-05-21T03:00:00.000000000",
          "2022-05-21T04:00:00.000000000",
          "2022-05-21T05:00:00.000000000",
          "2022-05-21T06:00:00.000000000",
          "2022-05-21T07:00:00.000000000",
          "2022-05-21T08:00:00.000000000",
          "2022-05-21T09:00:00.000000000",
          "2022-05-21T10:00:00.000000000",
          "2022-05-21T11:00:00.000000000",
          "2022-05-21T12:00:00.000000000",
          "2022-05-21T13:00:00.000000000",
          "2022-05-21T14:00:00.000000000",
          "2022-05-21T15:00:00.000000000",
          "2022-05-21T16:00:00.000000000",
          "2022-05-21T17:00:00.000000000",
          "2022-05-21T18:00:00.000000000",
          "2022-05-21T19:00:00.000000000",
          "2022-05-21T20:00:00.000000000",
          "2022-05-21T21:00:00.000000000",
          "2022-05-21T22:00:00.000000000",
          "2022-05-21T23:00:00.000000000",
          "2022-05-22T00:00:00.000000000",
          "2022-05-22T01:00:00.000000000",
          "2022-05-22T02:00:00.000000000",
          "2022-05-22T03:00:00.000000000",
          "2022-05-22T04:00:00.000000000",
          "2022-05-22T05:00:00.000000000",
          "2022-05-22T06:00:00.000000000",
          "2022-05-22T07:00:00.000000000",
          "2022-05-22T08:00:00.000000000",
          "2022-05-22T09:00:00.000000000",
          "2022-05-22T10:00:00.000000000",
          "2022-05-22T11:00:00.000000000",
          "2022-05-22T12:00:00.000000000",
          "2022-05-22T13:00:00.000000000",
          "2022-05-22T14:00:00.000000000",
          "2022-05-22T15:00:00.000000000",
          "2022-05-22T16:00:00.000000000",
          "2022-05-22T17:00:00.000000000",
          "2022-05-22T18:00:00.000000000",
          "2022-05-22T19:00:00.000000000",
          "2022-05-22T20:00:00.000000000",
          "2022-05-22T21:00:00.000000000",
          "2022-05-22T22:00:00.000000000",
          "2022-05-22T23:00:00.000000000",
          "2022-05-23T00:00:00.000000000",
          "2022-05-23T01:00:00.000000000",
          "2022-05-23T02:00:00.000000000",
          "2022-05-23T03:00:00.000000000",
          "2022-05-23T04:00:00.000000000",
          "2022-05-23T05:00:00.000000000",
          "2022-05-23T06:00:00.000000000",
          "2022-05-23T07:00:00.000000000",
          "2022-05-23T08:00:00.000000000",
          "2022-05-23T09:00:00.000000000",
          "2022-05-23T10:00:00.000000000",
          "2022-05-23T11:00:00.000000000",
          "2022-05-23T12:00:00.000000000",
          "2022-05-23T13:00:00.000000000",
          "2022-05-23T14:00:00.000000000",
          "2022-05-23T15:00:00.000000000",
          "2022-05-23T16:00:00.000000000",
          "2022-05-23T17:00:00.000000000",
          "2022-05-23T18:00:00.000000000",
          "2022-05-23T19:00:00.000000000",
          "2022-05-23T20:00:00.000000000",
          "2022-05-23T21:00:00.000000000",
          "2022-05-23T22:00:00.000000000",
          "2022-05-23T23:00:00.000000000",
          "2022-05-24T00:00:00.000000000",
          "2022-05-24T01:00:00.000000000",
          "2022-05-24T02:00:00.000000000",
          "2022-05-24T03:00:00.000000000",
          "2022-05-24T04:00:00.000000000",
          "2022-05-24T05:00:00.000000000",
          "2022-05-24T06:00:00.000000000",
          "2022-05-24T07:00:00.000000000",
          "2022-05-24T08:00:00.000000000",
          "2022-05-24T09:00:00.000000000",
          "2022-05-24T10:00:00.000000000",
          "2022-05-24T11:00:00.000000000",
          "2022-05-24T12:00:00.000000000",
          "2022-05-24T13:00:00.000000000",
          "2022-05-24T14:00:00.000000000",
          "2022-05-24T15:00:00.000000000",
          "2022-05-24T16:00:00.000000000",
          "2022-05-24T17:00:00.000000000",
          "2022-05-24T18:00:00.000000000",
          "2022-05-24T19:00:00.000000000",
          "2022-05-24T20:00:00.000000000",
          "2022-05-24T21:00:00.000000000",
          "2022-05-24T22:00:00.000000000",
          "2022-05-24T23:00:00.000000000",
          "2022-05-25T00:00:00.000000000",
          "2022-05-25T01:00:00.000000000",
          "2022-05-25T02:00:00.000000000",
          "2022-05-25T03:00:00.000000000",
          "2022-05-25T04:00:00.000000000",
          "2022-05-25T05:00:00.000000000",
          "2022-05-25T06:00:00.000000000",
          "2022-05-25T07:00:00.000000000",
          "2022-05-25T08:00:00.000000000",
          "2022-05-25T09:00:00.000000000",
          "2022-05-25T10:00:00.000000000",
          "2022-05-25T11:00:00.000000000",
          "2022-05-25T12:00:00.000000000",
          "2022-05-25T13:00:00.000000000",
          "2022-05-25T14:00:00.000000000",
          "2022-05-25T15:00:00.000000000",
          "2022-05-25T16:00:00.000000000",
          "2022-05-25T17:00:00.000000000",
          "2022-05-25T18:00:00.000000000",
          "2022-05-25T19:00:00.000000000",
          "2022-05-25T20:00:00.000000000",
          "2022-05-25T21:00:00.000000000",
          "2022-05-25T22:00:00.000000000",
          "2022-05-25T23:00:00.000000000",
          "2022-05-26T00:00:00.000000000",
          "2022-05-26T01:00:00.000000000",
          "2022-05-26T02:00:00.000000000",
          "2022-05-26T03:00:00.000000000",
          "2022-05-26T04:00:00.000000000",
          "2022-05-26T05:00:00.000000000",
          "2022-05-26T06:00:00.000000000",
          "2022-05-26T07:00:00.000000000",
          "2022-05-26T08:00:00.000000000",
          "2022-05-26T09:00:00.000000000",
          "2022-05-26T10:00:00.000000000",
          "2022-05-26T11:00:00.000000000",
          "2022-05-26T12:00:00.000000000",
          "2022-05-26T13:00:00.000000000",
          "2022-05-26T14:00:00.000000000",
          "2022-05-26T15:00:00.000000000",
          "2022-05-26T16:00:00.000000000",
          "2022-05-26T17:00:00.000000000",
          "2022-05-26T18:00:00.000000000",
          "2022-05-26T19:00:00.000000000",
          "2022-05-26T20:00:00.000000000",
          "2022-05-26T21:00:00.000000000",
          "2022-05-26T22:00:00.000000000",
          "2022-05-26T23:00:00.000000000",
          "2022-05-27T00:00:00.000000000",
          "2022-05-27T01:00:00.000000000",
          "2022-05-27T02:00:00.000000000",
          "2022-05-27T03:00:00.000000000",
          "2022-05-27T04:00:00.000000000",
          "2022-05-27T05:00:00.000000000",
          "2022-05-27T06:00:00.000000000",
          "2022-05-27T07:00:00.000000000",
          "2022-05-27T08:00:00.000000000",
          "2022-05-27T09:00:00.000000000",
          "2022-05-27T10:00:00.000000000",
          "2022-05-27T11:00:00.000000000",
          "2022-05-27T12:00:00.000000000",
          "2022-05-27T13:00:00.000000000",
          "2022-05-27T14:00:00.000000000",
          "2022-05-27T15:00:00.000000000",
          "2022-05-27T16:00:00.000000000",
          "2022-05-27T17:00:00.000000000",
          "2022-05-27T18:00:00.000000000",
          "2022-05-27T19:00:00.000000000",
          "2022-05-27T20:00:00.000000000",
          "2022-05-27T21:00:00.000000000",
          "2022-05-27T22:00:00.000000000",
          "2022-05-27T23:00:00.000000000",
          "2022-05-28T00:00:00.000000000",
          "2022-05-28T01:00:00.000000000",
          "2022-05-28T02:00:00.000000000",
          "2022-05-28T03:00:00.000000000",
          "2022-05-28T04:00:00.000000000",
          "2022-05-28T05:00:00.000000000",
          "2022-05-28T06:00:00.000000000",
          "2022-05-28T07:00:00.000000000",
          "2022-05-28T08:00:00.000000000",
          "2022-05-28T09:00:00.000000000",
          "2022-05-28T10:00:00.000000000",
          "2022-05-28T11:00:00.000000000",
          "2022-05-28T12:00:00.000000000",
          "2022-05-28T13:00:00.000000000",
          "2022-05-28T14:00:00.000000000",
          "2022-05-28T15:00:00.000000000",
          "2022-05-28T16:00:00.000000000",
          "2022-05-28T17:00:00.000000000",
          "2022-05-28T18:00:00.000000000",
          "2022-05-28T19:00:00.000000000",
          "2022-05-28T20:00:00.000000000",
          "2022-05-28T21:00:00.000000000",
          "2022-05-28T22:00:00.000000000",
          "2022-05-28T23:00:00.000000000",
          "2022-05-29T00:00:00.000000000",
          "2022-05-29T01:00:00.000000000",
          "2022-05-29T02:00:00.000000000",
          "2022-05-29T03:00:00.000000000",
          "2022-05-29T04:00:00.000000000",
          "2022-05-29T05:00:00.000000000",
          "2022-05-29T06:00:00.000000000",
          "2022-05-29T07:00:00.000000000",
          "2022-05-29T08:00:00.000000000",
          "2022-05-29T09:00:00.000000000",
          "2022-05-29T10:00:00.000000000",
          "2022-05-29T11:00:00.000000000",
          "2022-05-29T12:00:00.000000000",
          "2022-05-29T13:00:00.000000000",
          "2022-05-29T14:00:00.000000000",
          "2022-05-29T15:00:00.000000000",
          "2022-05-29T16:00:00.000000000",
          "2022-05-29T17:00:00.000000000",
          "2022-05-29T18:00:00.000000000",
          "2022-05-29T19:00:00.000000000",
          "2022-05-29T20:00:00.000000000",
          "2022-05-29T21:00:00.000000000",
          "2022-05-29T22:00:00.000000000",
          "2022-05-29T23:00:00.000000000",
          "2022-05-30T00:00:00.000000000",
          "2022-05-30T01:00:00.000000000",
          "2022-05-30T02:00:00.000000000",
          "2022-05-30T03:00:00.000000000",
          "2022-05-30T04:00:00.000000000",
          "2022-05-30T05:00:00.000000000",
          "2022-05-30T06:00:00.000000000",
          "2022-05-30T07:00:00.000000000",
          "2022-05-30T08:00:00.000000000",
          "2022-05-30T09:00:00.000000000",
          "2022-05-30T10:00:00.000000000",
          "2022-05-30T11:00:00.000000000",
          "2022-05-30T12:00:00.000000000",
          "2022-05-30T13:00:00.000000000",
          "2022-05-30T14:00:00.000000000",
          "2022-05-30T15:00:00.000000000",
          "2022-05-30T16:00:00.000000000",
          "2022-05-30T17:00:00.000000000",
          "2022-05-30T18:00:00.000000000",
          "2022-05-30T19:00:00.000000000",
          "2022-05-30T20:00:00.000000000",
          "2022-05-30T21:00:00.000000000",
          "2022-05-30T22:00:00.000000000",
          "2022-05-30T23:00:00.000000000",
          "2022-05-31T00:00:00.000000000",
          "2022-05-31T01:00:00.000000000",
          "2022-05-31T02:00:00.000000000",
          "2022-05-31T03:00:00.000000000",
          "2022-05-31T04:00:00.000000000",
          "2022-05-31T05:00:00.000000000",
          "2022-05-31T06:00:00.000000000",
          "2022-05-31T07:00:00.000000000",
          "2022-05-31T08:00:00.000000000",
          "2022-05-31T09:00:00.000000000",
          "2022-05-31T10:00:00.000000000",
          "2022-05-31T11:00:00.000000000",
          "2022-05-31T12:00:00.000000000",
          "2022-05-31T13:00:00.000000000",
          "2022-05-31T14:00:00.000000000",
          "2022-05-31T15:00:00.000000000",
          "2022-05-31T16:00:00.000000000",
          "2022-05-31T17:00:00.000000000",
          "2022-05-31T18:00:00.000000000",
          "2022-05-31T19:00:00.000000000",
          "2022-05-31T20:00:00.000000000",
          "2022-05-31T21:00:00.000000000",
          "2022-05-31T22:00:00.000000000",
          "2022-05-31T23:00:00.000000000",
          "2022-06-01T00:00:00.000000000",
          "2022-06-01T01:00:00.000000000",
          "2022-06-01T02:00:00.000000000",
          "2022-06-01T03:00:00.000000000",
          "2022-06-01T04:00:00.000000000",
          "2022-06-01T05:00:00.000000000",
          "2022-06-01T06:00:00.000000000",
          "2022-06-01T07:00:00.000000000",
          "2022-06-01T08:00:00.000000000",
          "2022-06-01T09:00:00.000000000",
          "2022-06-01T10:00:00.000000000",
          "2022-06-01T11:00:00.000000000",
          "2022-06-01T12:00:00.000000000",
          "2022-06-01T13:00:00.000000000",
          "2022-06-01T14:00:00.000000000",
          "2022-06-01T15:00:00.000000000",
          "2022-06-01T16:00:00.000000000",
          "2022-06-01T17:00:00.000000000",
          "2022-06-01T18:00:00.000000000",
          "2022-06-01T19:00:00.000000000",
          "2022-06-01T20:00:00.000000000",
          "2022-06-01T21:00:00.000000000",
          "2022-06-01T22:00:00.000000000",
          "2022-06-01T23:00:00.000000000",
          "2022-06-02T00:00:00.000000000",
          "2022-06-02T01:00:00.000000000",
          "2022-06-02T02:00:00.000000000",
          "2022-06-02T03:00:00.000000000",
          "2022-06-02T04:00:00.000000000",
          "2022-06-02T05:00:00.000000000",
          "2022-06-02T06:00:00.000000000",
          "2022-06-02T07:00:00.000000000",
          "2022-06-02T08:00:00.000000000",
          "2022-06-02T09:00:00.000000000",
          "2022-06-02T10:00:00.000000000",
          "2022-06-02T11:00:00.000000000",
          "2022-06-02T12:00:00.000000000",
          "2022-06-02T13:00:00.000000000",
          "2022-06-02T14:00:00.000000000",
          "2022-06-02T15:00:00.000000000",
          "2022-06-02T16:00:00.000000000",
          "2022-06-02T17:00:00.000000000",
          "2022-06-02T18:00:00.000000000",
          "2022-06-02T19:00:00.000000000",
          "2022-06-02T20:00:00.000000000",
          "2022-06-02T21:00:00.000000000",
          "2022-06-02T22:00:00.000000000",
          "2022-06-02T23:00:00.000000000",
          "2022-06-03T00:00:00.000000000",
          "2022-06-03T01:00:00.000000000",
          "2022-06-03T02:00:00.000000000",
          "2022-06-03T03:00:00.000000000",
          "2022-06-03T04:00:00.000000000",
          "2022-06-03T05:00:00.000000000",
          "2022-06-03T06:00:00.000000000",
          "2022-06-03T07:00:00.000000000",
          "2022-06-03T08:00:00.000000000",
          "2022-06-03T09:00:00.000000000",
          "2022-06-03T10:00:00.000000000",
          "2022-06-03T11:00:00.000000000",
          "2022-06-03T12:00:00.000000000",
          "2022-06-03T13:00:00.000000000",
          "2022-06-03T14:00:00.000000000",
          "2022-06-03T15:00:00.000000000",
          "2022-06-03T16:00:00.000000000",
          "2022-06-03T17:00:00.000000000",
          "2022-06-03T18:00:00.000000000",
          "2022-06-03T19:00:00.000000000",
          "2022-06-03T20:00:00.000000000",
          "2022-06-03T21:00:00.000000000",
          "2022-06-03T22:00:00.000000000",
          "2022-06-03T23:00:00.000000000",
          "2022-06-04T00:00:00.000000000",
          "2022-06-04T01:00:00.000000000",
          "2022-06-04T02:00:00.000000000",
          "2022-06-04T03:00:00.000000000",
          "2022-06-04T04:00:00.000000000",
          "2022-06-04T05:00:00.000000000",
          "2022-06-04T06:00:00.000000000",
          "2022-06-04T07:00:00.000000000",
          "2022-06-04T08:00:00.000000000",
          "2022-06-04T09:00:00.000000000",
          "2022-06-04T10:00:00.000000000",
          "2022-06-04T11:00:00.000000000",
          "2022-06-04T12:00:00.000000000",
          "2022-06-04T13:00:00.000000000",
          "2022-06-04T14:00:00.000000000",
          "2022-06-04T15:00:00.000000000",
          "2022-06-04T16:00:00.000000000",
          "2022-06-04T17:00:00.000000000",
          "2022-06-04T18:00:00.000000000",
          "2022-06-04T19:00:00.000000000",
          "2022-06-04T20:00:00.000000000",
          "2022-06-04T21:00:00.000000000",
          "2022-06-04T22:00:00.000000000",
          "2022-06-04T23:00:00.000000000",
          "2022-06-05T00:00:00.000000000",
          "2022-06-05T01:00:00.000000000",
          "2022-06-05T02:00:00.000000000",
          "2022-06-05T03:00:00.000000000",
          "2022-06-05T04:00:00.000000000",
          "2022-06-05T05:00:00.000000000",
          "2022-06-05T06:00:00.000000000",
          "2022-06-05T07:00:00.000000000",
          "2022-06-05T08:00:00.000000000",
          "2022-06-05T09:00:00.000000000",
          "2022-06-05T10:00:00.000000000",
          "2022-06-05T11:00:00.000000000",
          "2022-06-05T12:00:00.000000000",
          "2022-06-05T13:00:00.000000000",
          "2022-06-05T14:00:00.000000000",
          "2022-06-05T15:00:00.000000000",
          "2022-06-05T16:00:00.000000000",
          "2022-06-05T17:00:00.000000000",
          "2022-06-05T18:00:00.000000000",
          "2022-06-05T19:00:00.000000000",
          "2022-06-05T20:00:00.000000000",
          "2022-06-05T21:00:00.000000000",
          "2022-06-05T22:00:00.000000000",
          "2022-06-05T23:00:00.000000000",
          "2022-06-06T00:00:00.000000000",
          "2022-06-06T01:00:00.000000000",
          "2022-06-06T02:00:00.000000000",
          "2022-06-06T03:00:00.000000000",
          "2022-06-06T04:00:00.000000000",
          "2022-06-06T05:00:00.000000000",
          "2022-06-06T06:00:00.000000000",
          "2022-06-06T07:00:00.000000000",
          "2022-06-06T08:00:00.000000000",
          "2022-06-06T09:00:00.000000000",
          "2022-06-06T10:00:00.000000000",
          "2022-06-06T11:00:00.000000000",
          "2022-06-06T12:00:00.000000000",
          "2022-06-06T13:00:00.000000000",
          "2022-06-06T14:00:00.000000000",
          "2022-06-06T15:00:00.000000000",
          "2022-06-06T16:00:00.000000000",
          "2022-06-06T17:00:00.000000000",
          "2022-06-06T18:00:00.000000000",
          "2022-06-06T19:00:00.000000000",
          "2022-06-06T20:00:00.000000000",
          "2022-06-06T21:00:00.000000000",
          "2022-06-06T22:00:00.000000000",
          "2022-06-06T23:00:00.000000000",
          "2022-06-07T00:00:00.000000000",
          "2022-06-07T01:00:00.000000000",
          "2022-06-07T02:00:00.000000000",
          "2022-06-07T03:00:00.000000000",
          "2022-06-07T04:00:00.000000000",
          "2022-06-07T05:00:00.000000000",
          "2022-06-07T06:00:00.000000000",
          "2022-06-07T07:00:00.000000000",
          "2022-06-07T08:00:00.000000000",
          "2022-06-07T09:00:00.000000000",
          "2022-06-07T10:00:00.000000000",
          "2022-06-07T11:00:00.000000000",
          "2022-06-07T12:00:00.000000000",
          "2022-06-07T13:00:00.000000000",
          "2022-06-07T14:00:00.000000000",
          "2022-06-07T15:00:00.000000000",
          "2022-06-07T16:00:00.000000000",
          "2022-06-07T17:00:00.000000000",
          "2022-06-07T18:00:00.000000000",
          "2022-06-07T19:00:00.000000000",
          "2022-06-07T20:00:00.000000000",
          "2022-06-07T21:00:00.000000000",
          "2022-06-07T22:00:00.000000000",
          "2022-06-07T23:00:00.000000000",
          "2022-06-08T00:00:00.000000000",
          "2022-06-08T01:00:00.000000000",
          "2022-06-08T02:00:00.000000000",
          "2022-06-08T03:00:00.000000000",
          "2022-06-08T04:00:00.000000000",
          "2022-06-08T05:00:00.000000000",
          "2022-06-08T06:00:00.000000000",
          "2022-06-08T07:00:00.000000000",
          "2022-06-08T08:00:00.000000000",
          "2022-06-08T09:00:00.000000000",
          "2022-06-08T10:00:00.000000000",
          "2022-06-08T11:00:00.000000000",
          "2022-06-08T12:00:00.000000000",
          "2022-06-08T13:00:00.000000000",
          "2022-06-08T14:00:00.000000000",
          "2022-06-08T15:00:00.000000000",
          "2022-06-08T16:00:00.000000000",
          "2022-06-08T17:00:00.000000000",
          "2022-06-08T18:00:00.000000000",
          "2022-06-08T19:00:00.000000000",
          "2022-06-08T20:00:00.000000000",
          "2022-06-08T21:00:00.000000000",
          "2022-06-08T22:00:00.000000000",
          "2022-06-08T23:00:00.000000000",
          "2022-06-09T00:00:00.000000000",
          "2022-06-09T01:00:00.000000000",
          "2022-06-09T02:00:00.000000000",
          "2022-06-09T03:00:00.000000000",
          "2022-06-09T04:00:00.000000000",
          "2022-06-09T05:00:00.000000000",
          "2022-06-09T06:00:00.000000000",
          "2022-06-09T07:00:00.000000000",
          "2022-06-09T08:00:00.000000000",
          "2022-06-09T09:00:00.000000000",
          "2022-06-09T10:00:00.000000000",
          "2022-06-09T11:00:00.000000000",
          "2022-06-09T12:00:00.000000000",
          "2022-06-09T13:00:00.000000000",
          "2022-06-09T14:00:00.000000000",
          "2022-06-09T15:00:00.000000000",
          "2022-06-09T16:00:00.000000000",
          "2022-06-09T17:00:00.000000000",
          "2022-06-09T18:00:00.000000000",
          "2022-06-09T19:00:00.000000000",
          "2022-06-09T20:00:00.000000000",
          "2022-06-09T21:00:00.000000000",
          "2022-06-09T22:00:00.000000000",
          "2022-06-09T23:00:00.000000000",
          "2022-06-10T00:00:00.000000000",
          "2022-06-10T01:00:00.000000000",
          "2022-06-10T02:00:00.000000000",
          "2022-06-10T03:00:00.000000000",
          "2022-06-10T04:00:00.000000000",
          "2022-06-10T05:00:00.000000000",
          "2022-06-10T06:00:00.000000000",
          "2022-06-10T07:00:00.000000000",
          "2022-06-10T08:00:00.000000000",
          "2022-06-10T09:00:00.000000000",
          "2022-06-10T10:00:00.000000000",
          "2022-06-10T11:00:00.000000000",
          "2022-06-10T12:00:00.000000000",
          "2022-06-10T13:00:00.000000000",
          "2022-06-10T14:00:00.000000000",
          "2022-06-10T15:00:00.000000000",
          "2022-06-10T16:00:00.000000000",
          "2022-06-10T17:00:00.000000000",
          "2022-06-10T18:00:00.000000000",
          "2022-06-10T19:00:00.000000000",
          "2022-06-10T20:00:00.000000000",
          "2022-06-10T21:00:00.000000000",
          "2022-06-10T22:00:00.000000000",
          "2022-06-10T23:00:00.000000000",
          "2022-06-11T00:00:00.000000000",
          "2022-06-11T01:00:00.000000000",
          "2022-06-11T02:00:00.000000000",
          "2022-06-11T03:00:00.000000000",
          "2022-06-11T04:00:00.000000000",
          "2022-06-11T05:00:00.000000000",
          "2022-06-11T06:00:00.000000000",
          "2022-06-11T07:00:00.000000000",
          "2022-06-11T08:00:00.000000000",
          "2022-06-11T09:00:00.000000000",
          "2022-06-11T10:00:00.000000000",
          "2022-06-11T11:00:00.000000000",
          "2022-06-11T12:00:00.000000000",
          "2022-06-11T13:00:00.000000000",
          "2022-06-11T14:00:00.000000000",
          "2022-06-11T15:00:00.000000000",
          "2022-06-11T16:00:00.000000000",
          "2022-06-11T17:00:00.000000000",
          "2022-06-11T18:00:00.000000000",
          "2022-06-11T19:00:00.000000000",
          "2022-06-11T20:00:00.000000000",
          "2022-06-11T21:00:00.000000000",
          "2022-06-11T22:00:00.000000000",
          "2022-06-11T23:00:00.000000000",
          "2022-06-12T00:00:00.000000000",
          "2022-06-12T01:00:00.000000000",
          "2022-06-12T02:00:00.000000000",
          "2022-06-12T03:00:00.000000000",
          "2022-06-12T04:00:00.000000000",
          "2022-06-12T05:00:00.000000000",
          "2022-06-12T06:00:00.000000000",
          "2022-06-12T07:00:00.000000000",
          "2022-06-12T08:00:00.000000000",
          "2022-06-12T09:00:00.000000000",
          "2022-06-12T10:00:00.000000000",
          "2022-06-12T11:00:00.000000000",
          "2022-06-12T12:00:00.000000000",
          "2022-06-12T13:00:00.000000000",
          "2022-06-12T14:00:00.000000000",
          "2022-06-12T15:00:00.000000000",
          "2022-06-12T16:00:00.000000000",
          "2022-06-12T17:00:00.000000000",
          "2022-06-12T18:00:00.000000000",
          "2022-06-12T19:00:00.000000000",
          "2022-06-12T20:00:00.000000000",
          "2022-06-12T21:00:00.000000000",
          "2022-06-12T22:00:00.000000000",
          "2022-06-12T23:00:00.000000000",
          "2022-06-13T00:00:00.000000000",
          "2022-06-13T01:00:00.000000000",
          "2022-06-13T02:00:00.000000000",
          "2022-06-13T03:00:00.000000000",
          "2022-06-13T04:00:00.000000000",
          "2022-06-13T05:00:00.000000000",
          "2022-06-13T06:00:00.000000000",
          "2022-06-13T07:00:00.000000000",
          "2022-06-13T08:00:00.000000000",
          "2022-06-13T09:00:00.000000000",
          "2022-06-13T10:00:00.000000000",
          "2022-06-13T11:00:00.000000000",
          "2022-06-13T12:00:00.000000000",
          "2022-06-13T13:00:00.000000000",
          "2022-06-13T14:00:00.000000000",
          "2022-06-13T15:00:00.000000000",
          "2022-06-13T16:00:00.000000000",
          "2022-06-13T17:00:00.000000000",
          "2022-06-13T18:00:00.000000000",
          "2022-06-13T19:00:00.000000000",
          "2022-06-13T20:00:00.000000000",
          "2022-06-13T21:00:00.000000000",
          "2022-06-13T22:00:00.000000000",
          "2022-06-13T23:00:00.000000000",
          "2022-06-14T00:00:00.000000000",
          "2022-06-14T01:00:00.000000000",
          "2022-06-14T02:00:00.000000000",
          "2022-06-14T03:00:00.000000000",
          "2022-06-14T04:00:00.000000000",
          "2022-06-14T05:00:00.000000000",
          "2022-06-14T06:00:00.000000000",
          "2022-06-14T07:00:00.000000000",
          "2022-06-14T08:00:00.000000000",
          "2022-06-14T09:00:00.000000000",
          "2022-06-14T10:00:00.000000000",
          "2022-06-14T11:00:00.000000000",
          "2022-06-14T12:00:00.000000000",
          "2022-06-14T13:00:00.000000000",
          "2022-06-14T14:00:00.000000000",
          "2022-06-14T15:00:00.000000000",
          "2022-06-14T16:00:00.000000000",
          "2022-06-14T17:00:00.000000000",
          "2022-06-14T18:00:00.000000000",
          "2022-06-14T19:00:00.000000000",
          "2022-06-14T20:00:00.000000000",
          "2022-06-14T21:00:00.000000000",
          "2022-06-14T22:00:00.000000000",
          "2022-06-14T23:00:00.000000000",
          "2022-06-15T00:00:00.000000000",
          "2022-06-15T01:00:00.000000000",
          "2022-06-15T02:00:00.000000000",
          "2022-06-15T03:00:00.000000000",
          "2022-06-15T04:00:00.000000000",
          "2022-06-15T05:00:00.000000000",
          "2022-06-15T06:00:00.000000000",
          "2022-06-15T07:00:00.000000000",
          "2022-06-15T08:00:00.000000000",
          "2022-06-15T09:00:00.000000000",
          "2022-06-15T10:00:00.000000000",
          "2022-06-15T11:00:00.000000000",
          "2022-06-15T12:00:00.000000000",
          "2022-06-15T13:00:00.000000000",
          "2022-06-15T14:00:00.000000000",
          "2022-06-15T15:00:00.000000000",
          "2022-06-15T16:00:00.000000000",
          "2022-06-15T17:00:00.000000000",
          "2022-06-15T18:00:00.000000000",
          "2022-06-15T19:00:00.000000000",
          "2022-06-15T20:00:00.000000000",
          "2022-06-15T21:00:00.000000000",
          "2022-06-15T22:00:00.000000000",
          "2022-06-15T23:00:00.000000000",
          "2022-06-16T00:00:00.000000000",
          "2022-06-16T01:00:00.000000000",
          "2022-06-16T02:00:00.000000000",
          "2022-06-16T03:00:00.000000000",
          "2022-06-16T04:00:00.000000000",
          "2022-06-16T05:00:00.000000000",
          "2022-06-16T06:00:00.000000000",
          "2022-06-16T07:00:00.000000000",
          "2022-06-16T08:00:00.000000000",
          "2022-06-16T09:00:00.000000000",
          "2022-06-16T10:00:00.000000000",
          "2022-06-16T11:00:00.000000000",
          "2022-06-16T12:00:00.000000000",
          "2022-06-16T13:00:00.000000000",
          "2022-06-16T14:00:00.000000000",
          "2022-06-16T15:00:00.000000000",
          "2022-06-16T16:00:00.000000000",
          "2022-06-16T17:00:00.000000000",
          "2022-06-16T18:00:00.000000000",
          "2022-06-16T19:00:00.000000000",
          "2022-06-16T20:00:00.000000000",
          "2022-06-16T21:00:00.000000000",
          "2022-06-16T22:00:00.000000000",
          "2022-06-16T23:00:00.000000000",
          "2022-06-17T00:00:00.000000000"
         ],
         "xaxis": "x",
         "y": {
          "bdata": "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",
          "dtype": "f4"
         },
         "yaxis": "y"
        },
        {
         "line": {
          "color": "green"
         },
         "marker": {
          "size": 10
         },
         "mode": "markers",
         "name": "actual value",
         "type": "scatter",
         "x": [
          "2022-06-17T00:00:00.000000000"
         ],
         "y": [
          0
         ]
        },
        {
         "line": {
          "color": "red"
         },
         "marker": {
          "size": 15,
          "symbol": "x"
         },
         "mode": "markers",
         "name": "prediction",
         "type": "scatter",
         "x": [
          "2022-06-17T00:00:00.000000000"
         ],
         "y": [
          2.6957581015849397
         ]
        }
       ],
       "layout": {
        "legend": {
         "tracegroupgap": 0
        },
        "template": {
         "data": {
          "bar": [
           {
            "error_x": {
             "color": "#f2f5fa"
            },
            "error_y": {
             "color": "#f2f5fa"
            },
            "marker": {
             "line": {
              "color": "rgb(17,17,17)",
              "width": 0.5
             },
             "pattern": {
              "fillmode": "overlay",
              "size": 10,
              "solidity": 0.2
             }
            },
            "type": "bar"
           }
          ],
          "barpolar": [
           {
            "marker": {
             "line": {
              "color": "rgb(17,17,17)",
              "width": 0.5
             },
             "pattern": {
              "fillmode": "overlay",
              "size": 10,
              "solidity": 0.2
             }
            },
            "type": "barpolar"
           }
          ],
          "carpet": [
           {
            "aaxis": {
             "endlinecolor": "#A2B1C6",
             "gridcolor": "#506784",
             "linecolor": "#506784",
             "minorgridcolor": "#506784",
             "startlinecolor": "#A2B1C6"
            },
            "baxis": {
             "endlinecolor": "#A2B1C6",
             "gridcolor": "#506784",
             "linecolor": "#506784",
             "minorgridcolor": "#506784",
             "startlinecolor": "#A2B1C6"
            },
            "type": "carpet"
           }
          ],
          "choropleth": [
           {
            "colorbar": {
             "outlinewidth": 0,
             "ticks": ""
            },
            "type": "choropleth"
           }
          ],
          "contour": [
           {
            "colorbar": {
             "outlinewidth": 0,
             "ticks": ""
            },
            "colorscale": [
             [
              0,
              "#0d0887"
             ],
             [
              0.1111111111111111,
              "#46039f"
             ],
             [
              0.2222222222222222,
              "#7201a8"
             ],
             [
              0.3333333333333333,
              "#9c179e"
             ],
             [
              0.4444444444444444,
              "#bd3786"
             ],
             [
              0.5555555555555556,
              "#d8576b"
             ],
             [
              0.6666666666666666,
              "#ed7953"
             ],
             [
              0.7777777777777778,
              "#fb9f3a"
             ],
             [
              0.8888888888888888,
              "#fdca26"
             ],
             [
              1,
              "#f0f921"
             ]
            ],
            "type": "contour"
           }
          ],
          "contourcarpet": [
           {
            "colorbar": {
             "outlinewidth": 0,
             "ticks": ""
            },
            "type": "contourcarpet"
           }
          ],
          "heatmap": [
           {
            "colorbar": {
             "outlinewidth": 0,
             "ticks": ""
            },
            "colorscale": [
             [
              0,
              "#0d0887"
             ],
             [
              0.1111111111111111,
              "#46039f"
             ],
             [
              0.2222222222222222,
              "#7201a8"
             ],
             [
              0.3333333333333333,
              "#9c179e"
             ],
             [
              0.4444444444444444,
              "#bd3786"
             ],
             [
              0.5555555555555556,
              "#d8576b"
             ],
             [
              0.6666666666666666,
              "#ed7953"
             ],
             [
              0.7777777777777778,
              "#fb9f3a"
             ],
             [
              0.8888888888888888,
              "#fdca26"
             ],
             [
              1,
              "#f0f921"
             ]
            ],
            "type": "heatmap"
           }
          ],
          "histogram": [
           {
            "marker": {
             "pattern": {
              "fillmode": "overlay",
              "size": 10,
              "solidity": 0.2
             }
            },
            "type": "histogram"
           }
          ],
          "histogram2d": [
           {
            "colorbar": {
             "outlinewidth": 0,
             "ticks": ""
            },
            "colorscale": [
             [
              0,
              "#0d0887"
             ],
             [
              0.1111111111111111,
              "#46039f"
             ],
             [
              0.2222222222222222,
              "#7201a8"
             ],
             [
              0.3333333333333333,
              "#9c179e"
             ],
             [
              0.4444444444444444,
              "#bd3786"
             ],
             [
              0.5555555555555556,
              "#d8576b"
             ],
             [
              0.6666666666666666,
              "#ed7953"
             ],
             [
              0.7777777777777778,
              "#fb9f3a"
             ],
             [
              0.8888888888888888,
              "#fdca26"
             ],
             [
              1,
              "#f0f921"
             ]
            ],
            "type": "histogram2d"
           }
          ],
          "histogram2dcontour": [
           {
            "colorbar": {
             "outlinewidth": 0,
             "ticks": ""
            },
            "colorscale": [
             [
              0,
              "#0d0887"
             ],
             [
              0.1111111111111111,
              "#46039f"
             ],
             [
              0.2222222222222222,
              "#7201a8"
             ],
             [
              0.3333333333333333,
              "#9c179e"
             ],
             [
              0.4444444444444444,
              "#bd3786"
             ],
             [
              0.5555555555555556,
              "#d8576b"
             ],
             [
              0.6666666666666666,
              "#ed7953"
             ],
             [
              0.7777777777777778,
              "#fb9f3a"
             ],
             [
              0.8888888888888888,
              "#fdca26"
             ],
             [
              1,
              "#f0f921"
             ]
            ],
            "type": "histogram2dcontour"
           }
          ],
          "mesh3d": [
           {
            "colorbar": {
             "outlinewidth": 0,
             "ticks": ""
            },
            "type": "mesh3d"
           }
          ],
          "parcoords": [
           {
            "line": {
             "colorbar": {
              "outlinewidth": 0,
              "ticks": ""
             }
            },
            "type": "parcoords"
           }
          ],
          "pie": [
           {
            "automargin": true,
            "type": "pie"
           }
          ],
          "scatter": [
           {
            "marker": {
             "line": {
              "color": "#283442"
             }
            },
            "type": "scatter"
           }
          ],
          "scatter3d": [
           {
            "line": {
             "colorbar": {
              "outlinewidth": 0,
              "ticks": ""
             }
            },
            "marker": {
             "colorbar": {
              "outlinewidth": 0,
              "ticks": ""
             }
            },
            "type": "scatter3d"
           }
          ],
          "scattercarpet": [
           {
            "marker": {
             "colorbar": {
              "outlinewidth": 0,
              "ticks": ""
             }
            },
            "type": "scattercarpet"
           }
          ],
          "scattergeo": [
           {
            "marker": {
             "colorbar": {
              "outlinewidth": 0,
              "ticks": ""
             }
            },
            "type": "scattergeo"
           }
          ],
          "scattergl": [
           {
            "marker": {
             "line": {
              "color": "#283442"
             }
            },
            "type": "scattergl"
           }
          ],
          "scattermap": [
           {
            "marker": {
             "colorbar": {
              "outlinewidth": 0,
              "ticks": ""
             }
            },
            "type": "scattermap"
           }
          ],
          "scattermapbox": [
           {
            "marker": {
             "colorbar": {
              "outlinewidth": 0,
              "ticks": ""
             }
            },
            "type": "scattermapbox"
           }
          ],
          "scatterpolar": [
           {
            "marker": {
             "colorbar": {
              "outlinewidth": 0,
              "ticks": ""
             }
            },
            "type": "scatterpolar"
           }
          ],
          "scatterpolargl": [
           {
            "marker": {
             "colorbar": {
              "outlinewidth": 0,
              "ticks": ""
             }
            },
            "type": "scatterpolargl"
           }
          ],
          "scatterternary": [
           {
            "marker": {
             "colorbar": {
              "outlinewidth": 0,
              "ticks": ""
             }
            },
            "type": "scatterternary"
           }
          ],
          "surface": [
           {
            "colorbar": {
             "outlinewidth": 0,
             "ticks": ""
            },
            "colorscale": [
             [
              0,
              "#0d0887"
             ],
             [
              0.1111111111111111,
              "#46039f"
             ],
             [
              0.2222222222222222,
              "#7201a8"
             ],
             [
              0.3333333333333333,
              "#9c179e"
             ],
             [
              0.4444444444444444,
              "#bd3786"
             ],
             [
              0.5555555555555556,
              "#d8576b"
             ],
             [
              0.6666666666666666,
              "#ed7953"
             ],
             [
              0.7777777777777778,
              "#fb9f3a"
             ],
             [
              0.8888888888888888,
              "#fdca26"
             ],
             [
              1,
              "#f0f921"
             ]
            ],
            "type": "surface"
           }
          ],
          "table": [
           {
            "cells": {
             "fill": {
              "color": "#506784"
             },
             "line": {
              "color": "rgb(17,17,17)"
             }
            },
            "header": {
             "fill": {
              "color": "#2a3f5f"
             },
             "line": {
              "color": "rgb(17,17,17)"
             }
            },
            "type": "table"
           }
          ]
         },
         "layout": {
          "annotationdefaults": {
           "arrowcolor": "#f2f5fa",
           "arrowhead": 0,
           "arrowwidth": 1
          },
          "autotypenumbers": "strict",
          "coloraxis": {
           "colorbar": {
            "outlinewidth": 0,
            "ticks": ""
           }
          },
          "colorscale": {
           "diverging": [
            [
             0,
             "#8e0152"
            ],
            [
             0.1,
             "#c51b7d"
            ],
            [
             0.2,
             "#de77ae"
            ],
            [
             0.3,
             "#f1b6da"
            ],
            [
             0.4,
             "#fde0ef"
            ],
            [
             0.5,
             "#f7f7f7"
            ],
            [
             0.6,
             "#e6f5d0"
            ],
            [
             0.7,
             "#b8e186"
            ],
            [
             0.8,
             "#7fbc41"
            ],
            [
             0.9,
             "#4d9221"
            ],
            [
             1,
             "#276419"
            ]
           ],
           "sequential": [
            [
             0,
             "#0d0887"
            ],
            [
             0.1111111111111111,
             "#46039f"
            ],
            [
             0.2222222222222222,
             "#7201a8"
            ],
            [
             0.3333333333333333,
             "#9c179e"
            ],
            [
             0.4444444444444444,
             "#bd3786"
            ],
            [
             0.5555555555555556,
             "#d8576b"
            ],
            [
             0.6666666666666666,
             "#ed7953"
            ],
            [
             0.7777777777777778,
             "#fb9f3a"
            ],
            [
             0.8888888888888888,
             "#fdca26"
            ],
            [
             1,
             "#f0f921"
            ]
           ],
           "sequentialminus": [
            [
             0,
             "#0d0887"
            ],
            [
             0.1111111111111111,
             "#46039f"
            ],
            [
             0.2222222222222222,
             "#7201a8"
            ],
            [
             0.3333333333333333,
             "#9c179e"
            ],
            [
             0.4444444444444444,
             "#bd3786"
            ],
            [
             0.5555555555555556,
             "#d8576b"
            ],
            [
             0.6666666666666666,
             "#ed7953"
            ],
            [
             0.7777777777777778,
             "#fb9f3a"
            ],
            [
             0.8888888888888888,
             "#fdca26"
            ],
            [
             1,
             "#f0f921"
            ]
           ]
          },
          "colorway": [
           "#636efa",
           "#EF553B",
           "#00cc96",
           "#ab63fa",
           "#FFA15A",
           "#19d3f3",
           "#FF6692",
           "#B6E880",
           "#FF97FF",
           "#FECB52"
          ],
          "font": {
           "color": "#f2f5fa"
          },
          "geo": {
           "bgcolor": "rgb(17,17,17)",
           "lakecolor": "rgb(17,17,17)",
           "landcolor": "rgb(17,17,17)",
           "showlakes": true,
           "showland": true,
           "subunitcolor": "#506784"
          },
          "hoverlabel": {
           "align": "left"
          },
          "hovermode": "closest",
          "mapbox": {
           "style": "dark"
          },
          "paper_bgcolor": "rgb(17,17,17)",
          "plot_bgcolor": "rgb(17,17,17)",
          "polar": {
           "angularaxis": {
            "gridcolor": "#506784",
            "linecolor": "#506784",
            "ticks": ""
           },
           "bgcolor": "rgb(17,17,17)",
           "radialaxis": {
            "gridcolor": "#506784",
            "linecolor": "#506784",
            "ticks": ""
           }
          },
          "scene": {
           "xaxis": {
            "backgroundcolor": "rgb(17,17,17)",
            "gridcolor": "#506784",
            "gridwidth": 2,
            "linecolor": "#506784",
            "showbackground": true,
            "ticks": "",
            "zerolinecolor": "#C8D4E3"
           },
           "yaxis": {
            "backgroundcolor": "rgb(17,17,17)",
            "gridcolor": "#506784",
            "gridwidth": 2,
            "linecolor": "#506784",
            "showbackground": true,
            "ticks": "",
            "zerolinecolor": "#C8D4E3"
           },
           "zaxis": {
            "backgroundcolor": "rgb(17,17,17)",
            "gridcolor": "#506784",
            "gridwidth": 2,
            "linecolor": "#506784",
            "showbackground": true,
            "ticks": "",
            "zerolinecolor": "#C8D4E3"
           }
          },
          "shapedefaults": {
           "line": {
            "color": "#f2f5fa"
           }
          },
          "sliderdefaults": {
           "bgcolor": "#C8D4E3",
           "bordercolor": "rgb(17,17,17)",
           "borderwidth": 1,
           "tickwidth": 0
          },
          "ternary": {
           "aaxis": {
            "gridcolor": "#506784",
            "linecolor": "#506784",
            "ticks": ""
           },
           "baxis": {
            "gridcolor": "#506784",
            "linecolor": "#506784",
            "ticks": ""
           },
           "bgcolor": "rgb(17,17,17)",
           "caxis": {
            "gridcolor": "#506784",
            "linecolor": "#506784",
            "ticks": ""
           }
          },
          "title": {
           "x": 0.05
          },
          "updatemenudefaults": {
           "bgcolor": "#506784",
           "borderwidth": 0
          },
          "xaxis": {
           "automargin": true,
           "gridcolor": "#283442",
           "linecolor": "#506784",
           "ticks": "",
           "title": {
            "standoff": 15
           },
           "zerolinecolor": "#283442",
           "zerolinewidth": 2
          },
          "yaxis": {
           "automargin": true,
           "gridcolor": "#283442",
           "linecolor": "#506784",
           "ticks": "",
           "title": {
            "standoff": 15
           },
           "zerolinecolor": "#283442",
           "zerolinewidth": 2
          }
         }
        },
        "title": {
         "text": "Pick up hour=2022-06-17 00:00:00, location_id=7"
        },
        "xaxis": {
         "anchor": "y",
         "domain": [
          0,
          1
         ],
         "title": {
          "text": "x"
         }
        },
        "yaxis": {
         "anchor": "x",
         "domain": [
          0,
          1
         ],
         "title": {
          "text": "y"
         }
        }
       }
      }
     },
     "metadata": {},
     "output_type": "display_data"
    }
   ],
   "source": [
    "plot_one_sample(\n",
    "    example_id=1300,\n",
    "    features=X_test,\n",
    "    targets=y_test,\n",
    "    predictions=pd.Series(predictions)\n",
    ")"
   ]
  }
 ],
 "metadata": {
  "kernelspec": {
   "display_name": "taxi-demand",
   "language": "python",
   "name": "python3"
  },
  "language_info": {
   "codemirror_mode": {
    "name": "ipython",
    "version": 3
   },
   "file_extension": ".py",
   "mimetype": "text/x-python",
   "name": "python",
   "nbconvert_exporter": "python",
   "pygments_lexer": "ipython3",
   "version": "3.12.7"
  }
 },
 "nbformat": 4,
 "nbformat_minor": 5
}
