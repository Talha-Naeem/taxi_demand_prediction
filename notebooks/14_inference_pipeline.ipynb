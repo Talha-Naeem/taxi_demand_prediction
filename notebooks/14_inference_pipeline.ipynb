{
 "cells": [
  {
   "cell_type": "code",
   "execution_count": 15,
   "id": "8bb748d7",
   "metadata": {},
   "outputs": [],
   "source": [
    "import sys\n",
    "import os\n",
    "sys.path.append(os.path.abspath(os.path.join(os.getcwd(), '..')))"
   ]
  },
  {
   "cell_type": "code",
   "execution_count": 16,
   "id": "48cb1c0a",
   "metadata": {},
   "outputs": [
    {
     "name": "stdout",
     "output_type": "stream",
     "text": [
      "The autoreload extension is already loaded. To reload it, use:\n",
      "  %reload_ext autoreload\n"
     ]
    }
   ],
   "source": [
    "%load_ext autoreload\n",
    "%autoreload 2"
   ]
  },
  {
   "cell_type": "code",
   "execution_count": 17,
   "id": "8af5ba59",
   "metadata": {},
   "outputs": [
    {
     "name": "stdout",
     "output_type": "stream",
     "text": [
      "current_date=Timestamp('2025-09-07 20:00:00')\n"
     ]
    },
    {
     "name": "stderr",
     "output_type": "stream",
     "text": [
      "DeprecationWarning: datetime.datetime.utcnow() is deprecated and scheduled for removal in a future version. Use timezone-aware objects to represent datetimes in UTC: datetime.datetime.now(datetime.UTC).\n"
     ]
    }
   ],
   "source": [
    "from datetime import datetime, timedelta\n",
    "import pandas as pd\n",
    "\n",
    "current_date = pd.to_datetime(datetime.utcnow()).floor('h') # - timedelta(hours=1)\n",
    "print(f'{current_date=}')"
   ]
  },
  {
   "cell_type": "code",
   "execution_count": 18,
   "id": "fd3d2184",
   "metadata": {},
   "outputs": [],
   "source": [
    "# # from src.feature_store_api import load_batch_of_features_from_store\n",
    "\n",
    "# features = load_batch_of_features_from_store(current_date,n_features=5)"
   ]
  },
  {
   "cell_type": "code",
   "execution_count": 19,
   "id": "0f811819",
   "metadata": {},
   "outputs": [
    {
     "name": "stdout",
     "output_type": "stream",
     "text": [
      "2025-09-08 01:45:17,837 INFO: Closing external client and cleaning up certificates.\n",
      "Connection closed.\n",
      "2025-09-08 01:45:17,842 INFO: Initializing external client\n",
      "2025-09-08 01:45:17,843 INFO: Base URL: https://c.app.hopsworks.ai:443\n"
     ]
    },
    {
     "name": "stderr",
     "output_type": "stream",
     "text": [
      "\n",
      "\n",
      "UserWarning: The installed hopsworks client version 4.5.0rc2 may not be compatible with the connected Hopsworks backend version 4.2.2. \n",
      "To ensure compatibility please install the latest bug fix release matching the minor version of your backend (4.2) by running 'pip install hopsworks==4.2.*'\n"
     ]
    },
    {
     "name": "stdout",
     "output_type": "stream",
     "text": [
      "2025-09-08 01:45:21,260 INFO: Python Engine initialized.\n",
      "\n",
      "Logged in to project, explore it here https://c.app.hopsworks.ai:443/p/1242261\n",
      "Finished: Reading data from Hopsworks, using Hopsworks Feature Query Service (4.68s) \n",
      "                pickup_hour  rides  pickup_location_id      pickup_ts\n",
      "0 2025-08-03 12:00:00+00:00      0                 103  1754222400000\n",
      "1 2025-08-03 12:00:00+00:00      1                 160  1754222400000\n",
      "2 2025-08-03 12:00:00+00:00      0                  81  1754222400000\n",
      "3 2025-08-03 12:00:00+00:00      0                 259  1754222400000\n",
      "4 2025-08-03 12:00:00+00:00      0                  23  1754222400000\n"
     ]
    }
   ],
   "source": [
    "from src.feature_store_api import load_batch_of_features_from_store\n",
    "from src import config\n",
    "from src.config import FEATURE_VIEW_METADATA\n",
    "features = load_batch_of_features_from_store(\n",
    "    feature_view_metadata=config.FEATURE_VIEW_METADATA,\n",
    "    n_features=5\n",
    ")\n",
    "\n",
    "print(features.head())"
   ]
  },
  {
   "cell_type": "code",
   "execution_count": 23,
   "id": "04bf7911",
   "metadata": {},
   "outputs": [
    {
     "name": "stdout",
     "output_type": "stream",
     "text": [
      "2025-09-08 00:16:43,566 INFO: Closing external client and cleaning up certificates.\n",
      "Connection closed.\n",
      "2025-09-08 00:16:43,571 INFO: Initializing external client\n",
      "2025-09-08 00:16:43,573 INFO: Base URL: https://c.app.hopsworks.ai:443\n"
     ]
    },
    {
     "name": "stderr",
     "output_type": "stream",
     "text": [
      "\n",
      "\n"
     ]
    },
    {
     "name": "stdout",
     "output_type": "stream",
     "text": [
      "2025-09-08 00:16:47,741 INFO: Python Engine initialized.\n",
      "\n",
      "Logged in to project, explore it here https://c.app.hopsworks.ai:443/p/1242261\n",
      "Connected to Hopsworks project: taxidemand_predict\n",
      "Models with name 'taxi_demand_predictor_next_hour': [Model(name: 'taxi_demand_predictor_next_hour', version: 1)]\n"
     ]
    }
   ],
   "source": [
    "import hopsworks\n",
    "from src import config\n",
    "\n",
    "# Login to Hopsworks\n",
    "project = hopsworks.login(project=config.HOPSWORKS_PROJECT_NAME)\n",
    "\n",
    "# Project info\n",
    "print(\"Connected to Hopsworks project:\", project.name)\n",
    "\n",
    "# Access model registry\n",
    "mr = project.get_model_registry()\n",
    "\n",
    "# If you know your model name, fetch it\n",
    "model_name = \"taxi_demand_predictor_next_hour\"  # or whatever is in your project\n",
    "try:\n",
    "    models = mr.get_models(model_name)\n",
    "    print(f\"Models with name '{model_name}':\", models)\n",
    "except Exception as e:\n",
    "    print(f\"Could not fetch models: {e}\")\n"
   ]
  },
  {
   "cell_type": "code",
   "execution_count": 20,
   "id": "9bfe665d",
   "metadata": {},
   "outputs": [
    {
     "name": "stdout",
     "output_type": "stream",
     "text": [
      "2025-09-08 01:45:35,660 INFO: Closing external client and cleaning up certificates.\n"
     ]
    },
    {
     "name": "stdout",
     "output_type": "stream",
     "text": [
      "Connection closed.\n",
      "2025-09-08 01:45:35,668 INFO: Initializing external client\n",
      "2025-09-08 01:45:35,670 INFO: Base URL: https://c.app.hopsworks.ai:443\n"
     ]
    },
    {
     "name": "stderr",
     "output_type": "stream",
     "text": [
      "\n",
      "\n",
      "UserWarning: The installed hopsworks client version 4.5.0rc2 may not be compatible with the connected Hopsworks backend version 4.2.2. \n",
      "To ensure compatibility please install the latest bug fix release matching the minor version of your backend (4.2) by running 'pip install hopsworks==4.2.*'\n"
     ]
    },
    {
     "name": "stdout",
     "output_type": "stream",
     "text": [
      "2025-09-08 01:45:39,063 INFO: Python Engine initialized.\n",
      "\n",
      "Logged in to project, explore it here https://c.app.hopsworks.ai:443/p/1242261\n",
      "Finished: Reading data from Hopsworks, using Hopsworks Feature Query Service (4.99s) \n",
      "2025-09-08 01:45:54,486 INFO: Closing external client and cleaning up certificates.\n",
      "Connection closed.\n",
      "2025-09-08 01:45:54,492 INFO: Initializing external client\n",
      "2025-09-08 01:45:54,493 INFO: Base URL: https://c.app.hopsworks.ai:443\n"
     ]
    },
    {
     "name": "stderr",
     "output_type": "stream",
     "text": [
      "\n",
      "\n"
     ]
    },
    {
     "name": "stdout",
     "output_type": "stream",
     "text": [
      "2025-09-08 01:45:57,645 INFO: Python Engine initialized.\n",
      "\n",
      "Logged in to project, explore it here https://c.app.hopsworks.ai:443/p/1242261\n"
     ]
    },
    {
     "data": {
      "application/vnd.jupyter.widget-view+json": {
       "model_id": "686fc365fb7549128f53ed59d945d057",
       "version_major": 2,
       "version_minor": 0
      },
      "text/plain": [
       "Downloading: 0.000%|          | 0/129940 elapsed<00:00 remaining<?"
      ]
     },
     "metadata": {},
     "output_type": "display_data"
    },
    {
     "name": "stdout",
     "output_type": "stream",
     "text": [
      "❌ Error loading model: [Errno 2] No such file or directory: '/tmp/38ee829b-0141-4951-b0fd-f0d92a192d26/taxi_demand_predictor_next_hour/1/taxi_demand_predictor_next_hour.pkl'\n",
      "⚠️ Model is None, generating synthetic predictions\n",
      "                pickup_hour  rides  pickup_location_id      pickup_ts  \\\n",
      "0 2025-07-27 17:00:00+00:00      2                 169  1753635600000   \n",
      "1 2025-07-27 17:00:00+00:00      1                 134  1753635600000   \n",
      "2 2025-07-27 17:00:00+00:00      0                 217  1753635600000   \n",
      "3 2025-07-27 17:00:00+00:00      0                  60  1753635600000   \n",
      "4 2025-07-27 17:00:00+00:00      0                  80  1753635600000   \n",
      "\n",
      "   predicted_demand  \n",
      "0                15  \n",
      "1                 7  \n",
      "2                12  \n",
      "3                 7  \n",
      "4                 1  \n"
     ]
    }
   ],
   "source": [
    "from src.inference import load_model, get_model_predictions\n",
    "from src.feature_store_api import load_batch_of_features_from_store\n",
    "from src import config\n",
    "\n",
    "# Load features\n",
    "features = load_batch_of_features_from_store(config.FEATURE_VIEW_METADATA, config.N_FEATURES)\n",
    "\n",
    "# Load model\n",
    "model = load_model()\n",
    "\n",
    "# Generate predictions\n",
    "predictions = get_model_predictions(model, features)\n",
    "\n",
    "features['predicted_demand'] = predictions['predicted_demand']\n",
    "print(features.head())"
   ]
  },
  {
   "cell_type": "code",
   "execution_count": 21,
   "id": "0f86d391",
   "metadata": {},
   "outputs": [
    {
     "data": {
      "text/html": [
       "<div>\n",
       "<style scoped>\n",
       "    .dataframe tbody tr th:only-of-type {\n",
       "        vertical-align: middle;\n",
       "    }\n",
       "\n",
       "    .dataframe tbody tr th {\n",
       "        vertical-align: top;\n",
       "    }\n",
       "\n",
       "    .dataframe thead th {\n",
       "        text-align: right;\n",
       "    }\n",
       "</style>\n",
       "<table border=\"1\" class=\"dataframe\">\n",
       "  <thead>\n",
       "    <tr style=\"text-align: right;\">\n",
       "      <th></th>\n",
       "      <th>predicted_demand</th>\n",
       "      <th>pickup_hour</th>\n",
       "    </tr>\n",
       "  </thead>\n",
       "  <tbody>\n",
       "    <tr>\n",
       "      <th>0</th>\n",
       "      <td>15</td>\n",
       "      <td>2025-09-07 20:00:00</td>\n",
       "    </tr>\n",
       "    <tr>\n",
       "      <th>1</th>\n",
       "      <td>7</td>\n",
       "      <td>2025-09-07 20:00:00</td>\n",
       "    </tr>\n",
       "    <tr>\n",
       "      <th>2</th>\n",
       "      <td>12</td>\n",
       "      <td>2025-09-07 20:00:00</td>\n",
       "    </tr>\n",
       "    <tr>\n",
       "      <th>3</th>\n",
       "      <td>7</td>\n",
       "      <td>2025-09-07 20:00:00</td>\n",
       "    </tr>\n",
       "    <tr>\n",
       "      <th>4</th>\n",
       "      <td>1</td>\n",
       "      <td>2025-09-07 20:00:00</td>\n",
       "    </tr>\n",
       "    <tr>\n",
       "      <th>...</th>\n",
       "      <td>...</td>\n",
       "      <td>...</td>\n",
       "    </tr>\n",
       "    <tr>\n",
       "      <th>44515</th>\n",
       "      <td>18</td>\n",
       "      <td>2025-09-07 20:00:00</td>\n",
       "    </tr>\n",
       "    <tr>\n",
       "      <th>44516</th>\n",
       "      <td>5</td>\n",
       "      <td>2025-09-07 20:00:00</td>\n",
       "    </tr>\n",
       "    <tr>\n",
       "      <th>44517</th>\n",
       "      <td>8</td>\n",
       "      <td>2025-09-07 20:00:00</td>\n",
       "    </tr>\n",
       "    <tr>\n",
       "      <th>44518</th>\n",
       "      <td>9</td>\n",
       "      <td>2025-09-07 20:00:00</td>\n",
       "    </tr>\n",
       "    <tr>\n",
       "      <th>44519</th>\n",
       "      <td>1</td>\n",
       "      <td>2025-09-07 20:00:00</td>\n",
       "    </tr>\n",
       "  </tbody>\n",
       "</table>\n",
       "<p>44520 rows × 2 columns</p>\n",
       "</div>"
      ],
      "text/plain": [
       "       predicted_demand         pickup_hour\n",
       "0                    15 2025-09-07 20:00:00\n",
       "1                     7 2025-09-07 20:00:00\n",
       "2                    12 2025-09-07 20:00:00\n",
       "3                     7 2025-09-07 20:00:00\n",
       "4                     1 2025-09-07 20:00:00\n",
       "...                 ...                 ...\n",
       "44515                18 2025-09-07 20:00:00\n",
       "44516                 5 2025-09-07 20:00:00\n",
       "44517                 8 2025-09-07 20:00:00\n",
       "44518                 9 2025-09-07 20:00:00\n",
       "44519                 1 2025-09-07 20:00:00\n",
       "\n",
       "[44520 rows x 2 columns]"
      ]
     },
     "execution_count": 21,
     "metadata": {},
     "output_type": "execute_result"
    }
   ],
   "source": [
    "predictions['pickup_hour'] = current_date\n",
    "predictions"
   ]
  },
  {
   "cell_type": "code",
   "execution_count": null,
   "id": "b8d0a7fa",
   "metadata": {},
   "outputs": [
    {
     "name": "stdout",
     "output_type": "stream",
     "text": [
      "2025-09-08 01:46:38,427 INFO: Closing external client and cleaning up certificates.\n",
      "Connection closed.\n",
      "2025-09-08 01:46:38,433 INFO: Initializing external client\n",
      "2025-09-08 01:46:38,434 INFO: Base URL: https://c.app.hopsworks.ai:443\n"
     ]
    },
    {
     "name": "stderr",
     "output_type": "stream",
     "text": [
      "\n",
      "\n",
      "UserWarning: The installed hopsworks client version 4.5.0rc2 may not be compatible with the connected Hopsworks backend version 4.2.2. \n",
      "To ensure compatibility please install the latest bug fix release matching the minor version of your backend (4.2) by running 'pip install hopsworks==4.2.*'\n"
     ]
    },
    {
     "name": "stdout",
     "output_type": "stream",
     "text": [
      "2025-09-08 01:46:41,755 INFO: Python Engine initialized.\n",
      "\n",
      "Logged in to project, explore it here https://c.app.hopsworks.ai:443/p/1242261\n"
     ]
    },
    {
     "ename": "AttributeError",
     "evalue": "module 'src.config' has no attribute 'FEATURE_GROUP_MODEL_PREDICTIONS'",
     "output_type": "error",
     "traceback": [
      "\u001b[31m---------------------------------------------------------------------------\u001b[39m",
      "\u001b[31mAttributeError\u001b[39m                            Traceback (most recent call last)",
      "\u001b[36mCell\u001b[39m\u001b[36m \u001b[39m\u001b[32mIn[22]\u001b[39m\u001b[32m, line 6\u001b[39m\n\u001b[32m      2\u001b[39m \u001b[38;5;28;01mimport\u001b[39;00m\u001b[38;5;250m \u001b[39m\u001b[34;01msrc\u001b[39;00m\u001b[34;01m.\u001b[39;00m\u001b[34;01mconfig\u001b[39;00m\u001b[38;5;250m \u001b[39m\u001b[38;5;28;01mas\u001b[39;00m\u001b[38;5;250m \u001b[39m\u001b[34;01mconfig\u001b[39;00m\n\u001b[32m      4\u001b[39m \u001b[38;5;66;03m# connect to the feature group\u001b[39;00m\n\u001b[32m      5\u001b[39m feature_group = get_feature_store().get_or_create_feature_group(\n\u001b[32m----> \u001b[39m\u001b[32m6\u001b[39m     name=\u001b[43mconfig\u001b[49m\u001b[43m.\u001b[49m\u001b[43mFEATURE_GROUP_MODEL_PREDICTIONS\u001b[49m,\n\u001b[32m      7\u001b[39m     version=\u001b[32m1\u001b[39m,\n\u001b[32m      8\u001b[39m     description=\u001b[33m\"\u001b[39m\u001b[33mPredictions generate by our production model\u001b[39m\u001b[33m\"\u001b[39m,\n\u001b[32m      9\u001b[39m     primary_key = [\u001b[33m'\u001b[39m\u001b[33mpickup_location_id\u001b[39m\u001b[33m'\u001b[39m, \u001b[33m'\u001b[39m\u001b[33mpickup_hour\u001b[39m\u001b[33m'\u001b[39m],\n\u001b[32m     10\u001b[39m     event_time=\u001b[33m'\u001b[39m\u001b[33mpickup_hour\u001b[39m\u001b[33m'\u001b[39m,\n\u001b[32m     11\u001b[39m )\n",
      "\u001b[31mAttributeError\u001b[39m: module 'src.config' has no attribute 'FEATURE_GROUP_MODEL_PREDICTIONS'"
     ]
    }
   ],
   "source": [
    "from src.feature_store_api import get_feature_store\n",
    "import src.config as config\n",
    "\n",
    "# connect to the feature group\n",
    "feature_group = get_feature_store().get_or_create_feature_group(\n",
    "    name=config.FEATURE_GROUP_MODEL_PREDICTIONS,\n",
    "    version=1,\n",
    "    description=\"Predictions generate by our production model\",\n",
    "    primary_key = ['pickup_location_id', 'pickup_hour'],\n",
    "    event_time='pickup_hour',\n",
    ")"
   ]
  },
  {
   "cell_type": "code",
   "execution_count": null,
   "id": "39220da5",
   "metadata": {},
   "outputs": [],
   "source": []
  }
 ],
 "metadata": {
  "kernelspec": {
   "display_name": "taxi-demand",
   "language": "python",
   "name": "python3"
  },
  "language_info": {
   "codemirror_mode": {
    "name": "ipython",
    "version": 3
   },
   "file_extension": ".py",
   "mimetype": "text/x-python",
   "name": "python",
   "nbconvert_exporter": "python",
   "pygments_lexer": "ipython3",
   "version": "3.12.7"
  }
 },
 "nbformat": 4,
 "nbformat_minor": 5
}
